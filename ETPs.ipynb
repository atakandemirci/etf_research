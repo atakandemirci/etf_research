{
 "cells": [
  {
   "cell_type": "markdown",
   "id": "fb870bab",
   "metadata": {},
   "source": [
    "# Topic: LEVERAGED AND INVERSE ETPs\n",
    "\n",
    "# Course: SPRING 2023 PROJECT REPORT (GFGB-8951-002)\n",
    "\n",
    "# Advisor: PROF. YUEWU XU\n",
    "\n",
    "# Student: ATAKAN DEMIRCI\n",
    "\n",
    "# FIDN: A18767841"
   ]
  },
  {
   "cell_type": "markdown",
   "id": "a20f004a",
   "metadata": {},
   "source": [
    "## Summary\n",
    "\n",
    "The paper by Colby J. Pessina and Robert E. Whaley discusses leveraged and inverse exchange-traded products (ETPs) and examines their value-destroying characteristics, which are not well understood by investors. Leveraged and inverse ETPs offer an inexpensive, convenient, highly levered, and limited-liability means for profiting from a directional price view. However, these products are not suitable for buy-and-hold investments or effective hedging tools. Trading costs and barriers to entry are low, and the most significant problem with leveraged and inverse funds is that most of them are expected to collapse. The paper concludes that leveraged and inverse ETPs are not effective investment management tools. We wanted to extend the study to 2023 with publicly available data of S&P 500 and Russell 2000.\n"
   ]
  },
  {
   "cell_type": "markdown",
   "id": "aef2a019",
   "metadata": {},
   "source": [
    "### Background\n",
    "\n",
    "\"Levered and Inverse Exchange-Traded Products: Blessing or Curse?\" by Colby J. Pessina & Robert E. Whaley states that Levered and inverse exchange-trade products (ETPs) are designed to provide geared long and short exposures to the daily returns of various benchmark indexes. The benchmarks may be any reference index, but the popular ones are indexes of stocks, bonds, commodities, and volatility. The problem with these products is that they are not generally well understood, particularly those with futures-based benchmarks. Levered and inverse ETPs are neither suitable buy-and-hold investments nor effective hedging tools. They are unstable and exist only as mechanisms for placing short-term directional bets. Levered and inverse products are not, and cannot be effective investment management tools."
   ]
  },
  {
   "cell_type": "code",
   "execution_count": 1,
   "id": "092244b6",
   "metadata": {},
   "outputs": [],
   "source": [
    "# Here we start with the libraries we will need\n",
    "import os\n",
    "import yfinance as yf\n",
    "import pandas as pd\n",
    "import numpy as np\n",
    "import statsmodels.api as sm"
   ]
  },
  {
   "cell_type": "markdown",
   "id": "a47a865f",
   "metadata": {},
   "source": [
    "# Download the Data\n",
    "\n",
    "### Benchmark Data\n",
    "We start with our benchmark data. Only challenge s far is 20 year T-Bond data. We will get to that later"
   ]
  },
  {
   "cell_type": "code",
   "execution_count": 69,
   "id": "454066f8",
   "metadata": {},
   "outputs": [
    {
     "name": "stdout",
     "output_type": "stream",
     "text": [
      "[*********************100%***********************]  1 of 1 completed\n",
      "                  Open        High         Low       Close   Adj Close  \\\n",
      "Date                                                                     \n",
      "2009-06-26  918.840027  922.000000  913.030029  918.900024  918.900024   \n",
      "2009-06-29  919.859985  927.989990  916.179993  927.229980  927.229980   \n",
      "2009-06-30  927.150024  930.010010  912.859985  919.320007  919.320007   \n",
      "2009-07-01  920.820007  931.919983  920.820007  923.330017  923.330017   \n",
      "2009-07-02  921.239990  921.239990  896.419983  896.419983  896.419983   \n",
      "\n",
      "                Volume  \n",
      "Date                    \n",
      "2009-06-26  6076660000  \n",
      "2009-06-29  4211760000  \n",
      "2009-06-30  4627570000  \n",
      "2009-07-01  3919400000  \n",
      "2009-07-02  3931000000  \n"
     ]
    }
   ],
   "source": [
    "# Download data for S&P 500\n",
    "spx_data = yf.download(\"^GSPC\", start=\"2009-06-26\", end=\"2023-03-31\", interval=\"1d\")\n",
    "\n",
    "# Print the first few rows of the data\n",
    "print(spx_data.head())\n",
    "\n",
    "# Save the data to a CSV file\n",
    "spx_data.to_csv(\"spx.csv\")\n"
   ]
  },
  {
   "cell_type": "code",
   "execution_count": 38,
   "id": "15b84b29",
   "metadata": {},
   "outputs": [
    {
     "name": "stdout",
     "output_type": "stream",
     "text": [
      "[*********************100%***********************]  1 of 1 completed\n",
      "                  Open        High         Low       Close   Adj Close  \\\n",
      "Date                                                                     \n",
      "2008-11-19  446.260010  448.809998  412.380005  412.380005  412.380005   \n",
      "2008-11-20  411.660004  417.350006  384.579987  385.309998  385.309998   \n",
      "2008-11-21  389.579987  406.750000  371.299988  406.540009  406.540009   \n",
      "2008-11-24  407.459991  438.980011  407.459991  436.799988  436.799988   \n",
      "2008-11-25  438.779999  443.179993  426.709991  443.179993  443.179993   \n",
      "\n",
      "                Volume  \n",
      "Date                    \n",
      "2008-11-19  6548600000  \n",
      "2008-11-20  9093740000  \n",
      "2008-11-21  9495900000  \n",
      "2008-11-24  7879440000  \n",
      "2008-11-25  6952700000  \n"
     ]
    }
   ],
   "source": [
    "# Download data for Russell 2000\n",
    "rut_data = yf.download(\"^RUT\", start=\"2008-11-19\", end=\"2023-03-31\", interval=\"1d\")\n",
    "\n",
    "# Print the first few rows of the data\n",
    "print(rut_data.head())\n",
    "\n",
    "# Save the data to a CSV file\n",
    "rut_data.to_csv(\"rut.csv\")"
   ]
  },
  {
   "cell_type": "code",
   "execution_count": 3,
   "id": "66dc61a4",
   "metadata": {},
   "outputs": [
    {
     "name": "stdout",
     "output_type": "stream",
     "text": [
      "[*********************100%***********************]  1 of 1 completed\n",
      "\n",
      "1 Failed download:\n",
      "- ^IDCOT20TR: No data found for this date range, symbol may be delisted\n",
      "Empty DataFrame\n",
      "Columns: [Open, High, Low, Close, Adj Close, Volume]\n",
      "Index: []\n"
     ]
    }
   ],
   "source": [
    "# Download data for IDCOT20TR\n",
    "idcot20tr_data = yf.download(\"^IDCOT20TR\", start=\"2005-12-19\", end=\"2023-03-31\", interval=\"1d\")\n",
    "\n",
    "# Print the first few rows of the data\n",
    "print(idcot20tr_data.head())\n",
    "\n",
    "# Save the data to a CSV file\n",
    "idcot20tr_data.to_csv(\"idcot20tr.csv\")"
   ]
  },
  {
   "cell_type": "markdown",
   "id": "07237f3a",
   "metadata": {},
   "source": [
    "### S&P 500 Levered and Reversed ETPs\n"
   ]
  },
  {
   "cell_type": "code",
   "execution_count": 2,
   "id": "3c0d6a82",
   "metadata": {},
   "outputs": [
    {
     "name": "stdout",
     "output_type": "stream",
     "text": [
      "[*********************100%***********************]  1 of 1 completed\n",
      "                Open      High       Low     Close  Adj Close    Volume\n",
      "Date                                                                   \n",
      "2009-06-26  1.195278  1.213056  1.177361  1.199306   1.159664  13104000\n",
      "2009-06-29  1.208333  1.236111  1.191389  1.233333   1.192567   8690400\n",
      "2009-06-30  1.233333  1.243333  1.176389  1.203889   1.164096  17128800\n",
      "2009-07-01  1.218472  1.252917  1.213611  1.216806   1.176586  12038400\n",
      "2009-07-02  1.169306  1.169861  1.115972  1.116389   1.079488  29275200\n"
     ]
    }
   ],
   "source": [
    "# Download data for UPRO\n",
    "upro_data = yf.download(\"UPRO\", start=\"2009-06-26\", end=\"2023-03-31\", interval=\"1d\")\n",
    "\n",
    "# Print the first few rows of the data\n",
    "print(upro_data.head())\n",
    "\n",
    "# Save the data to a CSV file\n",
    "upro_data.to_csv(\"upro.csv\")"
   ]
  },
  {
   "cell_type": "code",
   "execution_count": 3,
   "id": "5616abc4",
   "metadata": {
    "scrolled": true
   },
   "outputs": [
    {
     "name": "stdout",
     "output_type": "stream",
     "text": [
      "[*********************100%***********************]  1 of 1 completed\n",
      "               Open     High      Low    Close     Adj Close  Volume\n",
      "Date                                                                \n",
      "2009-06-26  44575.0  45162.5  43712.5  44325.0  42931.878906    6742\n",
      "2009-06-29  43875.0  44687.5  42962.5  43125.0  41769.589844    6759\n",
      "2009-06-30  43162.5  44987.5  42600.0  43937.5  42556.554688    9328\n",
      "2009-07-01  43462.5  43575.0  42200.0  43462.5  42096.484375    8685\n",
      "2009-07-02  45175.0  47000.0  45112.5  46950.0  45474.371094   10179\n"
     ]
    }
   ],
   "source": [
    "# Download data for SPXS\n",
    "spxs_data = yf.download(\"SPXS\", start=\"2009-06-26\", end=\"2023-03-31\", interval=\"1d\")\n",
    "\n",
    "# Print the first few rows of the data\n",
    "print(spxs_data.head())\n",
    "\n",
    "# Save the data to a CSV file\n",
    "spxs_data.to_csv(\"spxs.csv\")"
   ]
  },
  {
   "cell_type": "code",
   "execution_count": 4,
   "id": "994c0485",
   "metadata": {},
   "outputs": [
    {
     "name": "stdout",
     "output_type": "stream",
     "text": [
      "[*********************100%***********************]  1 of 1 completed\n",
      "               Open     High      Low    Close     Adj Close  Volume\n",
      "Date                                                                \n",
      "2009-06-26  29628.0  30016.0  29148.0  29532.0  28186.097656     315\n",
      "2009-06-29  29280.0  29664.0  28600.0  28652.0  27346.199219     332\n",
      "2009-06-30  28684.0  30008.0  28372.0  29352.0  28014.300781     763\n",
      "2009-07-01  29000.0  29100.0  28172.0  29044.0  27720.333984     797\n",
      "2009-07-02  30168.0  31444.0  30152.0  31360.0  29930.789062     721\n"
     ]
    }
   ],
   "source": [
    "# Download data for SPXU\n",
    "spxu_data = yf.download(\"SPXU\", start=\"2009-06-26\", end=\"2023-03-31\", interval=\"1d\")\n",
    "\n",
    "# Print the first few rows of the data\n",
    "print(spxu_data.head())\n",
    "\n",
    "# Save the data to a CSV file\n",
    "spxu_data.to_csv(\"spxu.csv\")"
   ]
  },
  {
   "cell_type": "code",
   "execution_count": 5,
   "id": "db8ccc3e",
   "metadata": {},
   "outputs": [
    {
     "name": "stdout",
     "output_type": "stream",
     "text": [
      "[*********************100%***********************]  1 of 1 completed\n",
      "                   Open         High          Low        Close    Adj Close  \\\n",
      "Date                                                                          \n",
      "2009-06-26  4444.799805  4492.000000  4400.000000  4443.200195  4259.951172   \n",
      "2009-06-29  4412.799805  4460.799805  4345.600098  4352.799805  4173.279785   \n",
      "2009-06-30  4351.200195  4488.799805  4324.000000  4426.399902  4243.843262   \n",
      "2009-07-01  4389.600098  4396.799805  4303.200195  4388.000000  4207.027344   \n",
      "2009-07-02  4504.000000  4632.000000  4502.399902  4627.200195  4436.363281   \n",
      "\n",
      "            Volume  \n",
      "Date                \n",
      "2009-06-26  409653  \n",
      "2009-06-29  388384  \n",
      "2009-06-30  444098  \n",
      "2009-07-01  426953  \n",
      "2009-07-02  439908  \n"
     ]
    }
   ],
   "source": [
    "# Download data for SDS\n",
    "sds_data = yf.download(\"SDS\", start=\"2009-06-26\", end=\"2023-03-31\", interval=\"1d\")\n",
    "\n",
    "# Print the first few rows of the data\n",
    "print(sds_data.head())\n",
    "\n",
    "# Save the data to a CSV file\n",
    "sds_data.to_csv(\"sds.csv\")"
   ]
  },
  {
   "cell_type": "code",
   "execution_count": 6,
   "id": "4fad0c4e",
   "metadata": {},
   "outputs": [
    {
     "name": "stdout",
     "output_type": "stream",
     "text": [
      "[*********************100%***********************]  1 of 1 completed\n",
      "                  Open        High         Low       Close   Adj Close  \\\n",
      "Date                                                                     \n",
      "2009-06-26  131.619995  132.339996  131.000000  131.619995  126.523232   \n",
      "2009-06-29  131.179993  131.860001  130.119995  130.320007  125.273582   \n",
      "2009-06-30  130.179993  132.300003  129.800003  131.419998  126.330994   \n",
      "2009-07-01  130.699997  130.919998  129.500000  130.839996  125.773445   \n",
      "2009-07-02  132.559998  134.440002  132.500000  134.419998  129.214798   \n",
      "\n",
      "             Volume  \n",
      "Date                 \n",
      "2009-06-26   883150  \n",
      "2009-06-29   600550  \n",
      "2009-06-30   878650  \n",
      "2009-07-01   758700  \n",
      "2009-07-02  1384300  \n"
     ]
    }
   ],
   "source": [
    "# Download data for SH\n",
    "sh_data = yf.download(\"SH\", start=\"2009-06-26\", end=\"2023-03-31\", interval=\"1d\")\n",
    "\n",
    "# Print the first few rows of the data\n",
    "print(sh_data.head())\n",
    "\n",
    "# Save the data to a CSV file\n",
    "sh_data.to_csv(\"sh.csv\")"
   ]
  },
  {
   "cell_type": "code",
   "execution_count": 7,
   "id": "8d3920f5",
   "metadata": {},
   "outputs": [
    {
     "name": "stdout",
     "output_type": "stream",
     "text": [
      "[*********************100%***********************]  1 of 1 completed\n",
      "               Open     High      Low    Close  Adj Close     Volume\n",
      "Date                                                                \n",
      "2009-06-26  3.25000  3.28000  3.21375  3.25250   3.041738  249833600\n",
      "2009-06-29  3.27250  3.32125  3.23625  3.31375   3.099017  255537600\n",
      "2009-06-30  3.31250  3.33750  3.21375  3.26750   3.055765  309218400\n",
      "2009-07-01  3.28750  3.35000  3.27750  3.28375   3.070961  206745600\n",
      "2009-07-02  3.20125  3.20250  3.10375  3.10750   2.906133  293230400\n"
     ]
    }
   ],
   "source": [
    "# Download data for SSO\n",
    "sso_data = yf.download(\"SSO\", start=\"2009-06-26\", end=\"2023-03-31\", interval=\"1d\")\n",
    "\n",
    "# Print the first few rows of the data\n",
    "print(sso_data.head())\n",
    "\n",
    "# Save the data to a CSV file\n",
    "sso_data.to_csv(\"sso.csv\")"
   ]
  },
  {
   "cell_type": "code",
   "execution_count": 8,
   "id": "c63a8736",
   "metadata": {},
   "outputs": [
    {
     "name": "stdout",
     "output_type": "stream",
     "text": [
      "[*********************100%***********************]  1 of 1 completed\n",
      "                Open      High       Low     Close  Adj Close     Volume\n",
      "Date                                                                    \n",
      "2009-06-26  2.795000  2.849167  2.762500  2.807500   2.246401  133370400\n",
      "2009-06-29  2.841667  2.900833  2.791667  2.887500   2.310412  113755200\n",
      "2009-06-30  2.887500  2.923333  2.763333  2.830000   2.264404  179834400\n",
      "2009-07-01  2.864167  2.941667  2.850000  2.862500   2.290409  120717600\n",
      "2009-07-02  2.748333  2.749167  2.625000  2.626667   2.101709  146991600\n"
     ]
    }
   ],
   "source": [
    "# Download data for SPXL\n",
    "spxl_data = yf.download(\"SPXL\", start=\"2009-06-26\", end=\"2023-03-31\", interval=\"1d\")\n",
    "\n",
    "# Print the first few rows of the data\n",
    "print(spxl_data.head())\n",
    "\n",
    "# Save the data to a CSV file\n",
    "spxl_data.to_csv(\"spxl.csv\")"
   ]
  },
  {
   "cell_type": "markdown",
   "id": "82bd3526",
   "metadata": {},
   "source": [
    "### Russell 2000 ETPs"
   ]
  },
  {
   "cell_type": "code",
   "execution_count": 10,
   "id": "83ef0e0f",
   "metadata": {},
   "outputs": [
    {
     "name": "stdout",
     "output_type": "stream",
     "text": [
      "[*********************100%***********************]  1 of 1 completed\n",
      "                 Open       High        Low      Close    Adj Close  Volume\n",
      "Date                                                                       \n",
      "2008-11-19   917088.0  1130304.0   891168.0  1124256.0  1085505.875      84\n",
      "2008-11-20  1156320.0  1360608.0  1074720.0  1349184.0  1302681.125     142\n",
      "2008-11-21  1257600.0  1503168.0  1113984.0  1125312.0  1086525.375     175\n",
      "2008-11-24  1068576.0  1123392.0   848160.0   885984.0   855446.375     107\n",
      "2008-11-25   846624.0   939168.0   833088.0   843936.0   814847.750     109\n"
     ]
    }
   ],
   "source": [
    "# Download data for TZA\n",
    "tza_data = yf.download(\"TZA\", start=\"2008-11-06\", end=\"2023-03-31\", interval=\"1d\")\n",
    "\n",
    "# Print the first few rows of the data\n",
    "print(tza_data.head())\n",
    "\n",
    "# Save the data to a CSV file\n",
    "tza_data.to_csv(\"tza.csv\")"
   ]
  },
  {
   "cell_type": "markdown",
   "id": "ae7ec60c",
   "metadata": {},
   "source": [
    "##### Note:\n",
    "Yahoo warns us historical price date shouldn't be prior to 2008-11-19. We match our data according to this."
   ]
  },
  {
   "cell_type": "code",
   "execution_count": 52,
   "id": "f487e335",
   "metadata": {},
   "outputs": [
    {
     "name": "stdout",
     "output_type": "stream",
     "text": [
      "[*********************100%***********************]  1 of 1 completed\n",
      "                    Open          High          Low         Close  \\\n",
      "Date                                                                \n",
      "2008-11-19   8225.919922   9515.519531  8090.240234   9489.919922   \n",
      "2008-11-20   9630.719727  10787.839844  9201.919922  10745.599609   \n",
      "2008-11-21  10345.599609  11560.959961  9488.000000   9597.440430   \n",
      "2008-11-24   9337.599609   9546.879883  7998.720215   8256.000000   \n",
      "2008-11-25   7960.959961   8540.799805  7872.640137   7954.560059   \n",
      "\n",
      "              Adj Close  Volume  \n",
      "Date                             \n",
      "2008-11-19  6763.792969  135656  \n",
      "2008-11-20  7658.759277  156584  \n",
      "2008-11-21  6840.425781  153614  \n",
      "2008-11-24  5884.335938  117295  \n",
      "2008-11-25  5669.488281   92897  \n"
     ]
    }
   ],
   "source": [
    "# Download data for TWN\n",
    "twm_data = yf.download(\"TWM\", start=\"2008-11-19\", end=\"2023-03-31\", interval=\"1d\")\n",
    "\n",
    "# Print the first few rows of the data\n",
    "print(twm_data.head())\n",
    "\n",
    "# Save the data to a CSV file\n",
    "twm_data.to_csv(\"twm.csv\")"
   ]
  },
  {
   "cell_type": "code",
   "execution_count": 41,
   "id": "a37a01b9",
   "metadata": {},
   "outputs": [
    {
     "name": "stdout",
     "output_type": "stream",
     "text": [
      "[*********************100%***********************]  1 of 1 completed\n",
      "                  Open        High         Low       Close   Adj Close  Volume\n",
      "Date                                                                          \n",
      "2008-11-19  423.200012  456.160004  420.239990  455.679993  324.349640   23325\n",
      "2008-11-20  459.959991  488.000000  449.160004  485.720001  345.731934   32100\n",
      "2008-11-21  476.880005  504.480011  457.559998  458.839996  326.598969  134325\n",
      "2008-11-24  452.399994  456.799988  421.959991  427.760010  304.476440   42400\n",
      "2008-11-25  420.480011  435.119995  419.799988  420.399994  299.237610  111025\n"
     ]
    }
   ],
   "source": [
    "# Download data for RWM\n",
    "rwm_data = yf.download(\"RWM\", start=\"2008-11-19\", end=\"2023-03-31\", interval=\"1d\")\n",
    "\n",
    "# Print the first few rows of the data\n",
    "print(rwm_data.head())\n",
    "\n",
    "# Save the data to a CSV file\n",
    "rwm_data.to_csv(\"rwm.csv\")"
   ]
  },
  {
   "cell_type": "code",
   "execution_count": 42,
   "id": "cfef4ad6",
   "metadata": {},
   "outputs": [
    {
     "name": "stdout",
     "output_type": "stream",
     "text": [
      "[*********************100%***********************]  1 of 1 completed\n",
      "              Open   High     Low   Close  Adj Close    Volume\n",
      "Date                                                          \n",
      "2008-11-19  4.3325  4.415  3.6650  3.6650   3.559508  43526800\n",
      "2008-11-20  3.6125  3.785  3.1525  3.1525   3.061760  47731600\n",
      "2008-11-21  3.3250  3.560  2.9475  3.5325   3.430821  46645600\n",
      "2008-11-24  3.6275  4.110  3.5425  3.9950   3.880009  35409200\n",
      "2008-11-25  4.1425  4.175  3.8550  4.1375   4.018407  29933200\n"
     ]
    }
   ],
   "source": [
    "# Download data for UWM\n",
    "uwm_data = yf.download(\"UWM\", start=\"2008-11-19\", end=\"2023-03-31\", interval=\"1d\")\n",
    "\n",
    "# Print the first few rows of the data\n",
    "print(uwm_data.head())\n",
    "\n",
    "# Save the data to a CSV file\n",
    "uwm_data.to_csv(\"uwm.csv\")"
   ]
  },
  {
   "cell_type": "code",
   "execution_count": 14,
   "id": "013c3c84",
   "metadata": {},
   "outputs": [
    {
     "name": "stdout",
     "output_type": "stream",
     "text": [
      "[*********************100%***********************]  1 of 1 completed\n",
      "              Open    High     Low   Close  Adj Close    Volume\n",
      "Date                                                           \n",
      "2008-11-19  7.7675  7.9975  6.0000  6.0575   5.108106  10955600\n",
      "2008-11-20  5.8350  6.2750  4.7500  4.7850   4.035046  19968400\n",
      "2008-11-21  5.5475  5.6175  4.2675  5.5275   4.661174  19014400\n",
      "2008-11-24  5.8725  6.9300  5.6000  6.6800   5.633042  14030400\n",
      "2008-11-25  7.0100  7.1100  6.2775  7.0025   5.904996  11441200\n"
     ]
    }
   ],
   "source": [
    "# Download data for TNA\n",
    "tna_data = yf.download(\"TNA\", start=\"2008-11-06\", end=\"2023-03-31\", interval=\"1d\")\n",
    "\n",
    "# Print the first few rows of the data\n",
    "print(tna_data.head())\n",
    "\n",
    "# Save the data to a CSV file\n",
    "tna_data.to_csv(\"tna.csv\")"
   ]
  },
  {
   "cell_type": "markdown",
   "id": "55131f92",
   "metadata": {},
   "source": [
    "##### Note:\n",
    "TNA starts from November 19th as well"
   ]
  },
  {
   "cell_type": "markdown",
   "id": "23665f54",
   "metadata": {},
   "source": [
    "### 20 Year T-Bond"
   ]
  },
  {
   "cell_type": "code",
   "execution_count": 15,
   "id": "f21582ce",
   "metadata": {},
   "outputs": [
    {
     "name": "stdout",
     "output_type": "stream",
     "text": [
      "[*********************100%***********************]  1 of 1 completed\n",
      "              Open    High     Low   Close    Adj Close  Volume\n",
      "Date                                                           \n",
      "2010-01-22  3139.5  3167.0  3111.5  3136.5  3029.329102    1432\n",
      "2010-01-25  3191.0  3198.5  3148.5  3186.0  3077.137695    1200\n",
      "2010-01-26  3132.5  3208.0  3132.0  3186.5  3077.620605    1176\n",
      "2010-01-27  3169.5  3203.5  3133.5  3178.0  3069.410889    1796\n",
      "2010-01-28  3233.0  3241.0  3178.5  3203.5  3094.039795    1830\n"
     ]
    }
   ],
   "source": [
    "# Download data for TMV\n",
    "tmv_data = yf.download(\"TMV\", start=\"2010-01-22\", end=\"2023-03-31\", interval=\"1d\")\n",
    "\n",
    "# Print the first few rows of the data\n",
    "print(tmv_data.head())\n",
    "\n",
    "# Save the data to a CSV file\n",
    "tmv_data.to_csv(\"tmv.csv\")"
   ]
  },
  {
   "cell_type": "code",
   "execution_count": 16,
   "id": "bee1ec17",
   "metadata": {},
   "outputs": [
    {
     "name": "stdout",
     "output_type": "stream",
     "text": [
      "[*********************100%***********************]  1 of 1 completed\n",
      "                  Open        High         Low       Close   Adj Close  \\\n",
      "Date                                                                     \n",
      "2010-01-22  189.320007  190.639999  188.440002  189.399994  180.377808   \n",
      "2010-01-25  191.600006  191.800003  189.960007  191.320007  182.206360   \n",
      "2010-01-26  189.360001  192.360001  189.000000  191.000000  181.901581   \n",
      "2010-01-27  190.639999  191.960007  189.080002  191.080002  181.977798   \n",
      "2010-01-28  192.839996  193.240005  190.520004  191.160004  182.054001   \n",
      "\n",
      "             Volume  \n",
      "Date                 \n",
      "2010-01-22  1784150  \n",
      "2010-01-25  1201650  \n",
      "2010-01-26  1181575  \n",
      "2010-01-27  1337975  \n",
      "2010-01-28  1471725  \n"
     ]
    }
   ],
   "source": [
    "# Download data for TBT\n",
    "tbt_data = yf.download(\"TBT\", start=\"2010-01-22\", end=\"2023-03-31\", interval=\"1d\")\n",
    "\n",
    "# Print the first few rows of the data\n",
    "print(tbt_data.head())\n",
    "\n",
    "# Save the data to a CSV file\n",
    "tbt_data.to_csv(\"tbt.csv\")"
   ]
  },
  {
   "cell_type": "code",
   "execution_count": 17,
   "id": "6624d7c6",
   "metadata": {},
   "outputs": [
    {
     "name": "stdout",
     "output_type": "stream",
     "text": [
      "[*********************100%***********************]  1 of 1 completed\n",
      "                 Open       High        Low      Close  Adj Close  Volume\n",
      "Date                                                                     \n",
      "2010-01-22  49.230000  49.330002  49.070000  49.209999  47.255592  283400\n",
      "2010-01-25  49.480000  49.490002  49.250000  49.410000  47.447651  217000\n",
      "2010-01-26  49.180000  49.520000  49.119999  49.400002  47.438046   73800\n",
      "2010-01-27  49.340000  49.450001  49.139999  49.400002  47.438046  119500\n",
      "2010-01-28  49.720001  49.720001  49.340000  49.419998  47.457249  251700\n"
     ]
    }
   ],
   "source": [
    "# Download data for TBF\n",
    "tbf_data = yf.download(\"TBF\", start=\"2010-01-22\", end=\"2023-03-31\", interval=\"1d\")\n",
    "\n",
    "# Print the first few rows of the data\n",
    "print(tbf_data.head())\n",
    "\n",
    "# Save the data to a CSV file\n",
    "tbf_data.to_csv(\"tbf.csv\")"
   ]
  },
  {
   "cell_type": "code",
   "execution_count": 18,
   "id": "d1df9a4a",
   "metadata": {},
   "outputs": [
    {
     "name": "stdout",
     "output_type": "stream",
     "text": [
      "[*********************100%***********************]  1 of 1 completed\n",
      "                 Open       High        Low      Close  Adj Close  Volume\n",
      "Date                                                                     \n",
      "2010-01-22  18.007500  18.072500  17.889999  17.990000  16.249453  257600\n",
      "2010-01-25  17.817499  17.927500  17.797501  17.799999  16.077835  228000\n",
      "2010-01-26  17.825001  17.852501  17.715000  17.730000  16.014608   38800\n",
      "2010-01-27  17.862499  18.004999  17.742500  17.832500  16.107193   96000\n",
      "2010-01-28  17.639999  17.844999  17.637501  17.764999  16.046227  358800\n"
     ]
    }
   ],
   "source": [
    "# Download data for UBT\n",
    "ubt_data = yf.download(\"UBT\", start=\"2010-01-22\", end=\"2023-03-31\", interval=\"1d\")\n",
    "\n",
    "# Print the first few rows of the data\n",
    "print(ubt_data.head())\n",
    "\n",
    "# Save the data to a CSV file\n",
    "ubt_data.to_csv(\"ubt.csv\")"
   ]
  },
  {
   "cell_type": "code",
   "execution_count": 19,
   "id": "7209912a",
   "metadata": {},
   "outputs": [
    {
     "name": "stdout",
     "output_type": "stream",
     "text": [
      "[*********************100%***********************]  1 of 1 completed\n",
      "              Open    High     Low   Close  Adj Close  Volume\n",
      "Date                                                         \n",
      "2010-01-22  8.3500  8.4025  8.2550  8.3425   7.158132  118400\n",
      "2010-01-25  8.1875  8.2650  8.1875  8.2025   7.038008   70400\n",
      "2010-01-26  8.3525  8.3525  8.1400  8.2100   7.044441   81600\n",
      "2010-01-27  8.2225  8.3325  8.1500  8.2225   7.055169  107200\n",
      "2010-01-28  8.0650  8.1900  8.0575  8.1375   6.982235  130400\n"
     ]
    }
   ],
   "source": [
    "# Download data for TMF\n",
    "tmf_data = yf.download(\"TMF\", start=\"2010-01-22\", end=\"2023-03-31\", interval=\"1d\")\n",
    "\n",
    "# Print the first few rows of the data\n",
    "print(tmf_data.head())\n",
    "\n",
    "# Save the data to a CSV file\n",
    "tmf_data.to_csv(\"tmf.csv\")"
   ]
  },
  {
   "cell_type": "markdown",
   "id": "349cd095",
   "metadata": {},
   "source": [
    "### Crude Oil\n",
    "\n",
    "##### Note:\n",
    "\n",
    "On March 19, 2020 Citi decided to discontinue DWT and UWT ETNs"
   ]
  },
  {
   "cell_type": "code",
   "execution_count": 20,
   "id": "97127277",
   "metadata": {},
   "outputs": [
    {
     "name": "stdout",
     "output_type": "stream",
     "text": [
      "[*********************100%***********************]  1 of 1 completed\n",
      "                  Open        High         Low       Close   Adj Close  Volume\n",
      "Date                                                                          \n",
      "2021-11-09  253.399994  257.500000  250.100006  250.100006  250.100006     120\n",
      "2021-11-10  252.300003  274.700012  250.699997  270.980011  270.980011     130\n",
      "2021-11-11  263.000000  267.000000  263.000000  267.000000  267.000000      30\n",
      "2021-11-12  269.500000  269.500000  268.529999  268.529999  268.529999      20\n",
      "2021-11-15  266.850006  266.850006  262.820007  262.820007  262.820007      10\n"
     ]
    }
   ],
   "source": [
    "# Download data for OILD\n",
    "oild_data = yf.download(\"OILD\", start=\"2017-03-28\", end=\"2023-03-31\", interval=\"1d\")\n",
    "\n",
    "# Print the first few rows of the data\n",
    "print(oild_data.head())\n",
    "\n",
    "# Save the data to a CSV file\n",
    "oild_data.to_csv(\"oild.csv\")"
   ]
  },
  {
   "cell_type": "markdown",
   "id": "07230647",
   "metadata": {},
   "source": [
    "##### Note:\n",
    "OILD data starts from 2021"
   ]
  },
  {
   "cell_type": "code",
   "execution_count": 21,
   "id": "8905255e",
   "metadata": {},
   "outputs": [
    {
     "name": "stdout",
     "output_type": "stream",
     "text": [
      "[*********************100%***********************]  1 of 1 completed\n",
      "                  Open        High         Low       Close   Adj Close  Volume\n",
      "Date                                                                          \n",
      "2017-03-28  812.000000  815.599976  792.599976  806.200012  806.200012  117420\n",
      "2017-03-29  801.799988  801.799988  766.599976  770.599976  770.599976  128675\n",
      "2017-03-30  755.200012  760.400024  738.000000  740.799988  740.799988  129280\n",
      "2017-03-31  748.400024  748.799988  728.400024  731.400024  731.400024   82415\n",
      "2017-04-03  734.400024  747.400024  732.599976  743.599976  743.599976   58080\n"
     ]
    }
   ],
   "source": [
    "# Download data for SCO\n",
    "sco_data = yf.download(\"SCO\", start=\"2017-03-28\", end=\"2023-03-31\", interval=\"1d\")\n",
    "\n",
    "# Print the first few rows of the data\n",
    "print(sco_data.head())\n",
    "\n",
    "# Save the data to a CSV file\n",
    "sco_data.to_csv(\"sco.csv\")"
   ]
  },
  {
   "cell_type": "code",
   "execution_count": 22,
   "id": "a18794f2",
   "metadata": {},
   "outputs": [
    {
     "name": "stdout",
     "output_type": "stream",
     "text": [
      "[*********************100%***********************]  1 of 1 completed\n",
      "                 Open       High        Low      Close  Adj Close   Volume\n",
      "Date                                                                      \n",
      "2017-03-28  80.879997  81.839996  80.720001  81.199997  81.199997  2226100\n",
      "2017-03-29  81.440002  83.199997  81.360001  82.959999  82.959999  2894438\n",
      "2017-03-30  83.760002  84.720001  83.519997  84.559998  84.559998  3571350\n",
      "2017-03-31  84.160004  85.279999  84.080002  85.120003  85.120003  2428825\n",
      "2017-04-03  84.959999  85.040001  84.160004  84.400002  84.400002  2099513\n"
     ]
    }
   ],
   "source": [
    "# Download data for USO\n",
    "uso_data = yf.download(\"USO\", start=\"2017-03-28\", end=\"2023-03-31\", interval=\"1d\")\n",
    "\n",
    "# Print the first few rows of the data\n",
    "print(uso_data.head())\n",
    "\n",
    "# Save the data to a CSV file\n",
    "uso_data.to_csv(\"uso.csv\")"
   ]
  },
  {
   "cell_type": "code",
   "execution_count": 23,
   "id": "229c9b80",
   "metadata": {},
   "outputs": [
    {
     "name": "stdout",
     "output_type": "stream",
     "text": [
      "[*********************100%***********************]  1 of 1 completed\n",
      "                Open      High       Low     Close  Adj Close   Volume\n",
      "Date                                                                  \n",
      "2017-03-28  107.6250  110.0000  107.0625  108.3125   108.3125   837984\n",
      "2017-03-29  108.9375  113.5625  108.8750  112.8750   112.8750  1172736\n",
      "2017-03-30  115.2500  117.8125  114.5000  117.2500   117.2500  1302976\n",
      "2017-03-31  116.1250  119.3750  116.0000  118.8750   118.8750   961168\n",
      "2017-04-03  118.2500  118.6875  116.1875  116.8750   116.8750   664800\n"
     ]
    }
   ],
   "source": [
    "# Download data for UCO\n",
    "uco_data = yf.download(\"UCO\", start=\"2017-03-28\", end=\"2023-03-31\", interval=\"1d\")\n",
    "\n",
    "# Print the first few rows of the data\n",
    "print(uco_data.head())\n",
    "\n",
    "# Save the data to a CSV file\n",
    "uco_data.to_csv(\"uco.csv\")"
   ]
  },
  {
   "cell_type": "code",
   "execution_count": 24,
   "id": "5969f69a",
   "metadata": {},
   "outputs": [
    {
     "name": "stdout",
     "output_type": "stream",
     "text": [
      "[*********************100%***********************]  1 of 1 completed\n",
      "                 Open       High        Low      Close  Adj Close  Volume\n",
      "Date                                                                     \n",
      "2021-11-09  24.959999  25.290001  24.139999  25.290001  25.290001    1500\n",
      "2021-11-10  24.799999  24.799999  22.559999  22.957001  22.957001    5600\n",
      "2021-11-11  23.610001  23.622999  23.271000  23.271000  23.271000    2100\n",
      "2021-11-12  22.910000  23.122999  22.910000  23.122999  23.122999    2600\n",
      "2021-11-15  22.770000  23.573999  22.770000  23.573999  23.573999    2000\n"
     ]
    }
   ],
   "source": [
    "# Download data for OILU\n",
    "oilu_data = yf.download(\"OILU\", start=\"2017-03-28\", end=\"2023-03-31\", interval=\"1d\")\n",
    "\n",
    "# Print the first few rows of the data\n",
    "print(oilu_data.head())\n",
    "\n",
    "# Save the data to a CSV file\n",
    "oilu_data.to_csv(\"oilu.csv\")"
   ]
  },
  {
   "cell_type": "markdown",
   "id": "6a1f6022",
   "metadata": {},
   "source": [
    "##### Note:\n",
    "Data starts from 2021"
   ]
  },
  {
   "cell_type": "markdown",
   "id": "cde50427",
   "metadata": {},
   "source": [
    "### Natural Gas\n",
    "\n",
    "##### Note:\n",
    "\n",
    "Credit Suisse delisted UGAZ and DGAZ on July 12, 2020"
   ]
  },
  {
   "cell_type": "code",
   "execution_count": 25,
   "id": "1368bb82",
   "metadata": {},
   "outputs": [
    {
     "name": "stdout",
     "output_type": "stream",
     "text": [
      "[*********************100%***********************]  1 of 1 completed\n",
      "                  Open        High         Low       Close   Adj Close  Volume\n",
      "Date                                                                          \n",
      "2012-02-08  830.666687  843.288879  791.466675  841.688904  841.688904    2205\n",
      "2012-02-09  825.333313  855.555542  751.377808  820.444458  820.444458    4129\n",
      "2012-02-10  805.066650  824.355530  800.088867  804.266663  804.266663     709\n",
      "2012-02-13  834.222229  837.333313  812.622192  827.288879  827.288879    2554\n",
      "2012-02-14  790.933350  798.755554  773.422241  784.444458  784.444458    1575\n"
     ]
    }
   ],
   "source": [
    "# Download data for KOLD\n",
    "kold_data = yf.download(\"KOLD\", start=\"2012-02-08\", end=\"2023-03-31\", interval=\"1d\")\n",
    "\n",
    "# Print the first few rows of the data\n",
    "print(kold_data.head())\n",
    "\n",
    "# Save the data to a CSV file\n",
    "kold_data.to_csv(\"kold.csv\")"
   ]
  },
  {
   "cell_type": "code",
   "execution_count": 26,
   "id": "762d5549",
   "metadata": {},
   "outputs": [
    {
     "name": "stdout",
     "output_type": "stream",
     "text": [
      "[*********************100%***********************]  1 of 1 completed\n",
      "                 Open       High        Low      Close  Adj Close   Volume\n",
      "Date                                                                      \n",
      "2012-02-08  83.839996  85.279999  83.040001  83.040001  83.040001   951113\n",
      "2012-02-09  84.000000  88.000000  81.919998  83.839996  83.839996  2622913\n",
      "2012-02-10  84.959999  84.959999  83.360001  84.320000  84.320000   761713\n",
      "2012-02-13  82.559998  84.160004  82.239998  82.879997  82.879997  1106313\n",
      "2012-02-14  85.599998  86.879997  85.120003  86.080002  86.080002  1719563\n"
     ]
    }
   ],
   "source": [
    "# Download data for UNG\n",
    "ung_data = yf.download(\"UNG\", start=\"2012-02-08\", end=\"2023-03-31\", interval=\"1d\")\n",
    "\n",
    "# Print the first few rows of the data\n",
    "print(ung_data.head())\n",
    "\n",
    "# Save the data to a CSV file\n",
    "ung_data.to_csv(\"ung.csv\")"
   ]
  },
  {
   "cell_type": "code",
   "execution_count": 27,
   "id": "09d59993",
   "metadata": {},
   "outputs": [
    {
     "name": "stdout",
     "output_type": "stream",
     "text": [
      "[*********************100%***********************]  1 of 1 completed\n",
      "               Open     High      Low    Close  Adj Close  Volume\n",
      "Date                                                             \n",
      "2012-02-08  12950.0  13370.0  12720.0  12750.0    12750.0     602\n",
      "2012-02-09  13000.0  14140.0  12450.0  13060.0    13060.0     891\n",
      "2012-02-10  13300.0  13430.0  12990.0  13310.0    13310.0     307\n",
      "2012-02-13  12800.0  13200.0  12760.0  12960.0    12960.0     549\n",
      "2012-02-14  13520.0  13750.0  13330.0  13600.0    13600.0     416\n"
     ]
    }
   ],
   "source": [
    "# Download data for BOIL\n",
    "boil_data = yf.download(\"BOIL\", start=\"2012-02-08\", end=\"2023-03-31\", interval=\"1d\")\n",
    "\n",
    "# Print the first few rows of the data\n",
    "print(boil_data.head())\n",
    "\n",
    "# Save the data to a CSV file\n",
    "boil_data.to_csv(\"boil.csv\")"
   ]
  },
  {
   "cell_type": "markdown",
   "id": "d974ccb9",
   "metadata": {},
   "source": [
    "### Volatility"
   ]
  },
  {
   "cell_type": "code",
   "execution_count": 29,
   "id": "97601d22",
   "metadata": {},
   "outputs": [
    {
     "name": "stdout",
     "output_type": "stream",
     "text": [
      "[*********************100%***********************]  1 of 1 completed\n",
      "                 Open       High        Low      Close  Adj Close  Volume\n",
      "Date                                                                     \n",
      "2011-10-05  21.764999  22.820000  21.725000  22.695000  22.695000   17800\n",
      "2011-10-06  22.715000  23.165001  22.400000  23.165001  23.165001   11200\n",
      "2011-10-07  23.594999  23.594999  22.389999  23.344999  23.344999   36400\n",
      "2011-10-10  23.750000  24.299999  23.700001  24.299999  24.299999   30000\n",
      "2011-10-11  24.125000  24.825001  24.120001  24.629999  24.629999   32800\n"
     ]
    }
   ],
   "source": [
    "# Download data for SVXY\n",
    "svxy_data = yf.download(\"SVXY\", start=\"2011-10-05\", end=\"2023-03-31\", interval=\"1d\")\n",
    "\n",
    "# Print the first few rows of the data\n",
    "print(svxy_data.head())\n",
    "\n",
    "# Save the data to a CSV file\n",
    "svxy_data.to_csv(\"svxy.csv\")"
   ]
  },
  {
   "cell_type": "code",
   "execution_count": 30,
   "id": "0702a104",
   "metadata": {},
   "outputs": [
    {
     "name": "stdout",
     "output_type": "stream",
     "text": [
      "[*********************100%***********************]  1 of 1 completed\n",
      "                  Open        High         Low       Close   Adj Close  Volume\n",
      "Date                                                                          \n",
      "2018-01-25  442.559998  442.559998  442.559998  442.559998  442.559998       0\n",
      "2018-01-26  442.559998  442.559998  442.559998  442.559998  442.559998       0\n",
      "2018-01-29  467.200012  473.279999  467.200012  473.279999  473.279999      88\n",
      "2018-01-30  492.640015  508.959991  487.839996  488.799988  488.799988    3956\n",
      "2018-01-31  479.359985  490.880005  479.359985  490.399994  490.399994     575\n"
     ]
    }
   ],
   "source": [
    "# Download data for VXX\n",
    "vxx_data = yf.download(\"VXX\", start=\"2011-10-05\", end=\"2023-03-31\", interval=\"1d\")\n",
    "\n",
    "# Print the first few rows of the data\n",
    "print(vxx_data.head())\n",
    "\n",
    "# Save the data to a CSV file\n",
    "vxx_data.to_csv(\"vxx.csv\")"
   ]
  },
  {
   "cell_type": "markdown",
   "id": "d6cac2ce",
   "metadata": {},
   "source": [
    "##### Note:\n",
    "VXX data starts from 2018 January 25"
   ]
  },
  {
   "cell_type": "code",
   "execution_count": 31,
   "id": "afc1f056",
   "metadata": {},
   "outputs": [
    {
     "name": "stdout",
     "output_type": "stream",
     "text": [
      "[*********************100%***********************]  1 of 1 completed\n",
      "               Open     High      Low    Close  Adj Close  Volume\n",
      "Date                                                             \n",
      "2011-10-05  44696.0  45448.0  42888.0  43064.0    43064.0     904\n",
      "2011-10-06  43296.0  44024.0  42280.0  42344.0    42344.0     483\n",
      "2011-10-07  41520.0  43840.0  41488.0  43112.0    43112.0    1126\n",
      "2011-10-10  41320.0  41400.0  39968.0  39984.0    39984.0     476\n",
      "2011-10-11  40472.0  40472.0  39220.0  39508.0    39508.0     321\n"
     ]
    }
   ],
   "source": [
    "# Download data for VIXY\n",
    "vixy_data = yf.download(\"VIXY\", start=\"2011-10-05\", end=\"2023-03-31\", interval=\"1d\")\n",
    "\n",
    "# Print the first few rows of the data\n",
    "print(vixy_data.head())\n",
    "\n",
    "# Save the data to a CSV file\n",
    "vixy_data.to_csv(\"vixy.csv\")"
   ]
  },
  {
   "cell_type": "code",
   "execution_count": 32,
   "id": "d4af00db",
   "metadata": {},
   "outputs": [
    {
     "name": "stdout",
     "output_type": "stream",
     "text": [
      "[*********************100%***********************]  1 of 1 completed\n",
      "                    Open          High           Low         Close  \\\n",
      "Date                                                                 \n",
      "2011-10-05  2.098500e+09  2.184170e+09  1.939000e+09  1.950250e+09   \n",
      "2011-10-06  1.960750e+09  2.040100e+09  1.880750e+09  1.890000e+09   \n",
      "2011-10-07  1.811500e+09  2.023000e+09  1.809500e+09  1.947500e+09   \n",
      "2011-10-10  1.798500e+09  1.803000e+09  1.675000e+09  1.675000e+09   \n",
      "2011-10-11  1.711250e+09  1.715750e+09  1.609000e+09  1.627750e+09   \n",
      "\n",
      "               Adj Close  Volume  \n",
      "Date                              \n",
      "2011-10-05  1.950250e+09       0  \n",
      "2011-10-06  1.890000e+09       0  \n",
      "2011-10-07  1.947500e+09       0  \n",
      "2011-10-10  1.675000e+09       0  \n",
      "2011-10-11  1.627750e+09       0  \n"
     ]
    }
   ],
   "source": [
    "# Download data for TVIX\n",
    "tvix_data = yf.download(\"TVIX\", start=\"2011-10-05\", end=\"2023-03-31\", interval=\"1d\")\n",
    "\n",
    "# Print the first few rows of the data\n",
    "print(tvix_data.head())\n",
    "\n",
    "# Save the data to a CSV file\n",
    "tvix_data.to_csv(\"tvix.csv\")"
   ]
  },
  {
   "cell_type": "code",
   "execution_count": 33,
   "id": "29fa908a",
   "metadata": {},
   "outputs": [
    {
     "name": "stdout",
     "output_type": "stream",
     "text": [
      "[*********************100%***********************]  1 of 1 completed\n",
      "                    Open          High           Low         Close  \\\n",
      "Date                                                                 \n",
      "2011-10-05  1.974600e+09  1.989000e+09  1.813800e+09  1.813800e+09   \n",
      "2011-10-06  1.811400e+09  1.878000e+09  1.740000e+09  1.740000e+09   \n",
      "2011-10-07  1.705800e+09  1.857600e+09  1.684800e+09  1.765200e+09   \n",
      "2011-10-10  1.654800e+09  1.656000e+09  1.559400e+09  1.559400e+09   \n",
      "2011-10-11  1.570200e+09  1.572600e+09  1.491000e+09  1.506000e+09   \n",
      "\n",
      "               Adj Close  Volume  \n",
      "Date                              \n",
      "2011-10-05  1.813800e+09       0  \n",
      "2011-10-06  1.740000e+09       0  \n",
      "2011-10-07  1.765200e+09       0  \n",
      "2011-10-10  1.559400e+09       0  \n",
      "2011-10-11  1.506000e+09       0  \n"
     ]
    }
   ],
   "source": [
    "# Download data for UVXY\n",
    "uvxy_data = yf.download(\"UVXY\", start=\"2011-10-05\", end=\"2023-03-31\", interval=\"1d\")\n",
    "\n",
    "# Print the first few rows of the data\n",
    "print(uvxy_data.head())\n",
    "\n",
    "# Save the data to a CSV file\n",
    "uvxy_data.to_csv(\"uvxy.csv\")"
   ]
  },
  {
   "cell_type": "markdown",
   "id": "0c10e2ee",
   "metadata": {},
   "source": [
    "# Create Pandas DataFrames of downloaded .csv flies\n",
    "\n",
    "We also add return and log_return columns to our tables because we ar going to need them when we calculate Tracking Error"
   ]
  },
  {
   "cell_type": "code",
   "execution_count": 53,
   "id": "62bae9d4",
   "metadata": {},
   "outputs": [
    {
     "name": "stdout",
     "output_type": "stream",
     "text": [
      "boil\n",
      "               Open     High      Low    Close  Adj Close  Volume   Returns  \\\n",
      "Date                                                                          \n",
      "2012-02-09  13000.0  14140.0  12450.0  13060.0    13060.0     891  0.024314   \n",
      "2012-02-10  13300.0  13430.0  12990.0  13310.0    13310.0     307  0.019142   \n",
      "2012-02-13  12800.0  13200.0  12760.0  12960.0    12960.0     549 -0.026296   \n",
      "2012-02-14  13520.0  13750.0  13330.0  13600.0    13600.0     416  0.049383   \n",
      "2012-02-15  13120.0  13200.0  12500.0  12860.0    12860.0     674 -0.054412   \n",
      "\n",
      "            Log Returns  \n",
      "Date                     \n",
      "2012-02-09     0.024023  \n",
      "2012-02-10     0.018962  \n",
      "2012-02-13    -0.026648  \n",
      "2012-02-14     0.048202  \n",
      "2012-02-15    -0.055948  \n",
      "idcot20tr\n",
      "Empty DataFrame\n",
      "Columns: [Open, High, Low, Close, Adj Close, Volume, Returns, Log Returns]\n",
      "Index: []\n",
      "kold\n",
      "                  Open        High         Low       Close   Adj Close  \\\n",
      "Date                                                                     \n",
      "2012-02-09  825.333313  855.555542  751.377808  820.444458  820.444458   \n",
      "2012-02-10  805.066650  824.355530  800.088867  804.266663  804.266663   \n",
      "2012-02-13  834.222229  837.333313  812.622192  827.288879  827.288879   \n",
      "2012-02-14  790.933350  798.755554  773.422241  784.444458  784.444458   \n",
      "2012-02-15  812.444458  847.911133  808.888916  831.733337  831.733337   \n",
      "\n",
      "            Volume   Returns  Log Returns  \n",
      "Date                                       \n",
      "2012-02-09    4129 -0.025240    -0.025564  \n",
      "2012-02-10     709 -0.019718    -0.019915  \n",
      "2012-02-13    2554  0.028625     0.028223  \n",
      "2012-02-14    1575 -0.051789    -0.053178  \n",
      "2012-02-15    1530  0.060283     0.058536  \n",
      "oild\n",
      "                  Open        High         Low       Close   Adj Close  \\\n",
      "Date                                                                     \n",
      "2021-11-10  252.300003  274.700012  250.699997  270.980011  270.980011   \n",
      "2021-11-11  263.000000  267.000000  263.000000  267.000000  267.000000   \n",
      "2021-11-12  269.500000  269.500000  268.529999  268.529999  268.529999   \n",
      "2021-11-15  266.850006  266.850006  262.820007  262.820007  262.820007   \n",
      "2021-11-16  261.100006  261.709991  259.299988  261.709991  261.709991   \n",
      "\n",
      "            Volume   Returns  Log Returns  \n",
      "Date                                       \n",
      "2021-11-10     130  0.083487     0.080184  \n",
      "2021-11-11      30 -0.014687    -0.014796  \n",
      "2021-11-12      20  0.005730     0.005714  \n",
      "2021-11-15      10 -0.021264    -0.021493  \n",
      "2021-11-16     340 -0.004223    -0.004232  \n",
      "oilu\n",
      "                 Open       High        Low      Close  Adj Close  Volume  \\\n",
      "Date                                                                        \n",
      "2021-11-10  24.799999  24.799999  22.559999  22.957001  22.957001    5600   \n",
      "2021-11-11  23.610001  23.622999  23.271000  23.271000  23.271000    2100   \n",
      "2021-11-12  22.910000  23.122999  22.910000  23.122999  23.122999    2600   \n",
      "2021-11-15  22.770000  23.573999  22.770000  23.573999  23.573999    2000   \n",
      "2021-11-16  24.010000  24.020000  23.639000  23.639000  23.639000    2300   \n",
      "\n",
      "             Returns  Log Returns  \n",
      "Date                               \n",
      "2021-11-10 -0.092250    -0.096786  \n",
      "2021-11-11  0.013678     0.013585  \n",
      "2021-11-12 -0.006360    -0.006380  \n",
      "2021-11-15  0.019504     0.019317  \n",
      "2021-11-16  0.002757     0.002754  \n",
      "rut\n",
      "                  Open        High         Low       Close   Adj Close  \\\n",
      "Date                                                                     \n",
      "2008-11-20  411.660004  417.350006  384.579987  385.309998  385.309998   \n",
      "2008-11-21  389.579987  406.750000  371.299988  406.540009  406.540009   \n",
      "2008-11-24  407.459991  438.980011  407.459991  436.799988  436.799988   \n",
      "2008-11-25  438.779999  443.179993  426.709991  443.179993  443.179993   \n",
      "2008-11-26  437.859985  468.859985  433.579987  468.859985  468.859985   \n",
      "\n",
      "                Volume   Returns  Log Returns  \n",
      "Date                                           \n",
      "2008-11-20  9093740000 -0.065643    -0.067897  \n",
      "2008-11-21  9495900000  0.055099     0.053634  \n",
      "2008-11-24  7879440000  0.074433     0.071793  \n",
      "2008-11-25  6952700000  0.014606     0.014501  \n",
      "2008-11-26  5793260000  0.057945     0.056328  \n",
      "rwm\n",
      "                  Open        High         Low       Close   Adj Close  \\\n",
      "Date                                                                     \n",
      "2008-11-20  459.959991  488.000000  449.160004  485.720001  345.731934   \n",
      "2008-11-21  476.880005  504.480011  457.559998  458.839996  326.598969   \n",
      "2008-11-24  452.399994  456.799988  421.959991  427.760010  304.476440   \n",
      "2008-11-25  420.480011  435.119995  419.799988  420.399994  299.237610   \n",
      "2008-11-26  429.480011  429.559998  395.040009  395.320007  281.385895   \n",
      "\n",
      "            Volume   Returns  Log Returns  \n",
      "Date                                       \n",
      "2008-11-20   32100  0.065924     0.063842  \n",
      "2008-11-21  134325 -0.055340    -0.056931  \n",
      "2008-11-24   42400 -0.067736    -0.070139  \n",
      "2008-11-25  111025 -0.017206    -0.017356  \n",
      "2008-11-26  119750 -0.059657    -0.061511  \n",
      "sco\n",
      "                  Open        High         Low       Close   Adj Close  \\\n",
      "Date                                                                     \n",
      "2017-03-29  801.799988  801.799988  766.599976  770.599976  770.599976   \n",
      "2017-03-30  755.200012  760.400024  738.000000  740.799988  740.799988   \n",
      "2017-03-31  748.400024  748.799988  728.400024  731.400024  731.400024   \n",
      "2017-04-03  734.400024  747.400024  732.599976  743.599976  743.599976   \n",
      "2017-04-04  733.000000  737.400024  717.000000  719.799988  719.799988   \n",
      "\n",
      "            Volume   Returns  Log Returns  \n",
      "Date                                       \n",
      "2017-03-29  128675 -0.044158    -0.045162  \n",
      "2017-03-30  129280 -0.038671    -0.039439  \n",
      "2017-03-31   82415 -0.012689    -0.012770  \n",
      "2017-04-03   58080  0.016680     0.016543  \n",
      "2017-04-04   91885 -0.032006    -0.032530  \n",
      "sds\n",
      "                   Open         High          Low        Close    Adj Close  \\\n",
      "Date                                                                          \n",
      "2009-06-29  4412.799805  4460.799805  4345.600098  4352.799805  4173.279785   \n",
      "2009-06-30  4351.200195  4488.799805  4324.000000  4426.399902  4243.843262   \n",
      "2009-07-01  4389.600098  4396.799805  4303.200195  4388.000000  4207.027344   \n",
      "2009-07-02  4504.000000  4632.000000  4502.399902  4627.200195  4436.363281   \n",
      "2009-07-06  4718.399902  4746.399902  4614.399902  4616.799805  4426.391113   \n",
      "\n",
      "            Volume   Returns  Log Returns  \n",
      "Date                                       \n",
      "2009-06-29  388384 -0.020346    -0.020555  \n",
      "2009-06-30  444098  0.016908     0.016767  \n",
      "2009-07-01  426953 -0.008675    -0.008713  \n",
      "2009-07-02  439908  0.054513     0.053079  \n",
      "2009-07-06  485328 -0.002248    -0.002250  \n",
      "sh\n",
      "                  Open        High         Low       Close   Adj Close  \\\n",
      "Date                                                                     \n",
      "2009-06-29  131.179993  131.860001  130.119995  130.320007  125.273582   \n",
      "2009-06-30  130.179993  132.300003  129.800003  131.419998  126.330994   \n",
      "2009-07-01  130.699997  130.919998  129.500000  130.839996  125.773445   \n",
      "2009-07-02  132.559998  134.440002  132.500000  134.419998  129.214798   \n",
      "2009-07-06  135.699997  136.100006  134.160004  134.160004  128.964874   \n",
      "\n",
      "             Volume   Returns  Log Returns  \n",
      "Date                                        \n",
      "2009-06-29   600550 -0.009877    -0.009926  \n",
      "2009-06-30   878650  0.008441     0.008405  \n",
      "2009-07-01   758700 -0.004413    -0.004423  \n",
      "2009-07-02  1384300  0.027362     0.026994  \n",
      "2009-07-06  1392400 -0.001934    -0.001936  \n",
      "spx\n",
      "                  Open        High         Low       Close   Adj Close  \\\n",
      "Date                                                                     \n",
      "2009-06-29  919.859985  927.989990  916.179993  927.229980  927.229980   \n",
      "2009-06-30  927.150024  930.010010  912.859985  919.320007  919.320007   \n",
      "2009-07-01  920.820007  931.919983  920.820007  923.330017  923.330017   \n",
      "2009-07-02  921.239990  921.239990  896.419983  896.419983  896.419983   \n",
      "2009-07-06  894.270020  898.719971  886.359985  898.719971  898.719971   \n",
      "\n",
      "                Volume   Returns  Log Returns  \n",
      "Date                                           \n",
      "2009-06-29  4211760000  0.009065     0.009024  \n",
      "2009-06-30  4627570000 -0.008531    -0.008567  \n",
      "2009-07-01  3919400000  0.004362     0.004352  \n",
      "2009-07-02  3931000000 -0.029145    -0.029578  \n",
      "2009-07-06  4712580000  0.002566     0.002562  \n",
      "spxl\n",
      "                Open      High       Low     Close  Adj Close     Volume  \\\n",
      "Date                                                                       \n",
      "2009-06-29  2.841667  2.900833  2.791667  2.887500   2.310412  113755200   \n",
      "2009-06-30  2.887500  2.923333  2.763333  2.830000   2.264404  179834400   \n",
      "2009-07-01  2.864167  2.941667  2.850000  2.862500   2.290409  120717600   \n",
      "2009-07-02  2.748333  2.749167  2.625000  2.626667   2.101709  146991600   \n",
      "2009-07-06  2.540833  2.626667  2.519167  2.618333   2.095040  133627200   \n",
      "\n",
      "             Returns  Log Returns  \n",
      "Date                               \n",
      "2009-06-29  0.028495     0.028096  \n",
      "2009-06-30 -0.019913    -0.020114  \n",
      "2009-07-01  0.011484     0.011419  \n",
      "2009-07-02 -0.082387    -0.085980  \n",
      "2009-07-06 -0.003173    -0.003178  \n",
      "spxs\n",
      "               Open     High      Low    Close     Adj Close  Volume  \\\n",
      "Date                                                                   \n",
      "2009-06-29  43875.0  44687.5  42962.5  43125.0  41769.589844    6759   \n",
      "2009-06-30  43162.5  44987.5  42600.0  43937.5  42556.554688    9328   \n",
      "2009-07-01  43462.5  43575.0  42200.0  43462.5  42096.484375    8685   \n",
      "2009-07-02  45175.0  47000.0  45112.5  46950.0  45474.371094   10179   \n",
      "2009-07-06  48500.0  48937.5  46987.5  47037.5  45559.132812   10315   \n",
      "\n",
      "             Returns  Log Returns  \n",
      "Date                               \n",
      "2009-06-29 -0.027073    -0.027446  \n",
      "2009-06-30  0.018841     0.018665  \n",
      "2009-07-01 -0.010811    -0.010870  \n",
      "2009-07-02  0.080242     0.077185  \n",
      "2009-07-06  0.001864     0.001862  \n",
      "spxu\n",
      "               Open     High      Low    Close     Adj Close  Volume  \\\n",
      "Date                                                                   \n",
      "2009-06-29  29280.0  29664.0  28600.0  28652.0  27346.199219     332   \n",
      "2009-06-30  28684.0  30008.0  28372.0  29352.0  28014.300781     763   \n",
      "2009-07-01  29000.0  29100.0  28172.0  29044.0  27720.333984     797   \n",
      "2009-07-02  30168.0  31444.0  30152.0  31360.0  29930.789062     721   \n",
      "2009-07-06  32312.0  32596.0  31280.0  31288.0  29862.070312    1247   \n",
      "\n",
      "             Returns  Log Returns  \n",
      "Date                               \n",
      "2009-06-29 -0.029798    -0.030251  \n",
      "2009-06-30  0.024431     0.024138  \n",
      "2009-07-01 -0.010493    -0.010549  \n",
      "2009-07-02  0.079741     0.076721  \n",
      "2009-07-06 -0.002296    -0.002299  \n",
      "sso\n",
      "               Open     High      Low    Close  Adj Close     Volume  \\\n",
      "Date                                                                   \n",
      "2009-06-29  3.27250  3.32125  3.23625  3.31375   3.099017  255537600   \n",
      "2009-06-30  3.31250  3.33750  3.21375  3.26750   3.055765  309218400   \n",
      "2009-07-01  3.28750  3.35000  3.27750  3.28375   3.070961  206745600   \n",
      "2009-07-02  3.20125  3.20250  3.10375  3.10750   2.906133  293230400   \n",
      "2009-07-06  3.04750  3.11250  3.02875  3.10875   2.907301  226792800   \n",
      "\n",
      "             Returns  Log Returns  \n",
      "Date                               \n",
      "2009-06-29  0.018831     0.018656  \n",
      "2009-06-30 -0.013957    -0.014055  \n",
      "2009-07-01  0.004973     0.004960  \n",
      "2009-07-02 -0.053673    -0.055167  \n",
      "2009-07-06  0.000402     0.000402  \n",
      "svxy\n",
      "                 Open       High        Low      Close  Adj Close  Volume  \\\n",
      "Date                                                                        \n",
      "2011-10-06  22.715000  23.165001  22.400000  23.165001  23.165001   11200   \n",
      "2011-10-07  23.594999  23.594999  22.389999  23.344999  23.344999   36400   \n",
      "2011-10-10  23.750000  24.299999  23.700001  24.299999  24.299999   30000   \n",
      "2011-10-11  24.125000  24.825001  24.120001  24.629999  24.629999   32800   \n",
      "2011-10-12  25.580000  26.750000  25.500000  26.344999  26.344999   27600   \n",
      "\n",
      "             Returns  Log Returns  \n",
      "Date                               \n",
      "2011-10-06  0.020709     0.020498  \n",
      "2011-10-07  0.007770     0.007740  \n",
      "2011-10-10  0.040908     0.040094  \n",
      "2011-10-11  0.013580     0.013489  \n",
      "2011-10-12  0.069631     0.067313  \n",
      "tbf\n",
      "                 Open       High        Low      Close  Adj Close  Volume  \\\n",
      "Date                                                                        \n",
      "2010-01-25  49.480000  49.490002  49.250000  49.410000  47.447651  217000   \n",
      "2010-01-26  49.180000  49.520000  49.119999  49.400002  47.438046   73800   \n",
      "2010-01-27  49.340000  49.450001  49.139999  49.400002  47.438046  119500   \n",
      "2010-01-28  49.720001  49.720001  49.340000  49.419998  47.457249  251700   \n",
      "2010-01-29  49.459999  49.529999  48.950001  49.020000  47.073143  598500   \n",
      "\n",
      "             Returns  Log Returns  \n",
      "Date                               \n",
      "2010-01-25  0.004064     0.004056  \n",
      "2010-01-26 -0.000202    -0.000202  \n",
      "2010-01-27  0.000000     0.000000  \n",
      "2010-01-28  0.000405     0.000405  \n",
      "2010-01-29 -0.008094    -0.008127  \n",
      "tbt\n",
      "                  Open        High         Low       Close   Adj Close  \\\n",
      "Date                                                                     \n",
      "2010-01-25  191.600006  191.800003  189.960007  191.320007  182.206360   \n",
      "2010-01-26  189.360001  192.360001  189.000000  191.000000  181.901581   \n",
      "2010-01-27  190.639999  191.960007  189.080002  191.080002  181.977798   \n",
      "2010-01-28  192.839996  193.240005  190.520004  191.160004  182.054001   \n",
      "2010-01-29  191.960007  192.520004  187.720001  188.279999  179.311172   \n",
      "\n",
      "             Volume   Returns  Log Returns  \n",
      "Date                                        \n",
      "2010-01-25  1201650  0.010137     0.010086  \n",
      "2010-01-26  1181575 -0.001673    -0.001674  \n",
      "2010-01-27  1337975  0.000419     0.000419  \n",
      "2010-01-28  1471725  0.000419     0.000419  \n",
      "2010-01-29  1847625 -0.015066    -0.015181  \n",
      "tmf\n",
      "              Open    High     Low   Close  Adj Close  Volume   Returns  \\\n",
      "Date                                                                      \n",
      "2010-01-25  8.1875  8.2650  8.1875  8.2025   7.038008   70400 -0.016781   \n",
      "2010-01-26  8.3525  8.3525  8.1400  8.2100   7.044441   81600  0.000914   \n",
      "2010-01-27  8.2225  8.3325  8.1500  8.2225   7.055169  107200  0.001523   \n",
      "2010-01-28  8.0650  8.1900  8.0575  8.1375   6.982235  130400 -0.010338   \n",
      "2010-01-29  8.1125  8.3925  8.1100  8.3725   7.183872   88800  0.028879   \n",
      "\n",
      "            Log Returns  \n",
      "Date                     \n",
      "2010-01-25    -0.016924  \n",
      "2010-01-26     0.000914  \n",
      "2010-01-27     0.001522  \n",
      "2010-01-28    -0.010391  \n",
      "2010-01-29     0.028469  \n",
      "tmv\n",
      "              Open    High     Low   Close    Adj Close  Volume   Returns  \\\n",
      "Date                                                                        \n",
      "2010-01-25  3191.0  3198.5  3148.5  3186.0  3077.137695    1200  0.015782   \n",
      "2010-01-26  3132.5  3208.0  3132.0  3186.5  3077.620605    1176  0.000157   \n",
      "2010-01-27  3169.5  3203.5  3133.5  3178.0  3069.410889    1796 -0.002668   \n",
      "2010-01-28  3233.0  3241.0  3178.5  3203.5  3094.039795    1830  0.008024   \n",
      "2010-01-29  3212.0  3217.5  3105.0  3111.5  3005.183105    1666 -0.028719   \n",
      "\n",
      "            Log Returns  \n",
      "Date                     \n",
      "2010-01-25     0.015659  \n",
      "2010-01-26     0.000157  \n",
      "2010-01-27    -0.002671  \n",
      "2010-01-28     0.007992  \n",
      "2010-01-29    -0.029139  \n"
     ]
    },
    {
     "name": "stdout",
     "output_type": "stream",
     "text": [
      "tna\n",
      "              Open    High     Low   Close  Adj Close    Volume   Returns  \\\n",
      "Date                                                                        \n",
      "2008-11-20  5.8350  6.2750  4.7500  4.7850   4.035046  19968400 -0.210070   \n",
      "2008-11-21  5.5475  5.6175  4.2675  5.5275   4.661174  19014400  0.155173   \n",
      "2008-11-24  5.8725  6.9300  5.6000  6.6800   5.633042  14030400  0.208503   \n",
      "2008-11-25  7.0100  7.1100  6.2775  7.0025   5.904996  11441200  0.048278   \n",
      "2008-11-26  6.5700  8.3175  6.5175  8.2475   6.954867  14252400  0.177794   \n",
      "\n",
      "            Log Returns  \n",
      "Date                     \n",
      "2008-11-20    -0.235811  \n",
      "2008-11-21     0.144250  \n",
      "2008-11-24     0.189382  \n",
      "2008-11-25     0.047149  \n",
      "2008-11-26     0.163643  \n",
      "tvix\n",
      "                    Open          High           Low         Close  \\\n",
      "Date                                                                 \n",
      "2011-10-06  1.960750e+09  2.040100e+09  1.880750e+09  1.890000e+09   \n",
      "2011-10-07  1.811500e+09  2.023000e+09  1.809500e+09  1.947500e+09   \n",
      "2011-10-10  1.798500e+09  1.803000e+09  1.675000e+09  1.675000e+09   \n",
      "2011-10-11  1.711250e+09  1.715750e+09  1.609000e+09  1.627750e+09   \n",
      "2011-10-12  1.519500e+09  1.531500e+09  1.356250e+09  1.411950e+09   \n",
      "\n",
      "               Adj Close  Volume   Returns  Log Returns  \n",
      "Date                                                     \n",
      "2011-10-06  1.890000e+09       0 -0.030893    -0.031381  \n",
      "2011-10-07  1.947500e+09       0  0.030423     0.029970  \n",
      "2011-10-10  1.675000e+09       0 -0.139923    -0.150733  \n",
      "2011-10-11  1.627750e+09       0 -0.028209    -0.028615  \n",
      "2011-10-12  1.411950e+09       0 -0.132576    -0.142227  \n",
      "twm\n",
      "                    Open          High          Low         Close  \\\n",
      "Date                                                                \n",
      "2008-11-20   9630.719727  10787.839844  9201.919922  10745.599609   \n",
      "2008-11-21  10345.599609  11560.959961  9488.000000   9597.440430   \n",
      "2008-11-24   9337.599609   9546.879883  7998.720215   8256.000000   \n",
      "2008-11-25   7960.959961   8540.799805  7872.640137   7954.560059   \n",
      "2008-11-26   8302.719727   8316.160156  6966.399902   7020.799805   \n",
      "\n",
      "              Adj Close  Volume   Returns  Log Returns  \n",
      "Date                                                    \n",
      "2008-11-20  7658.759277  156584  0.132317     0.124266  \n",
      "2008-11-21  6840.425781  153614 -0.106849    -0.113000  \n",
      "2008-11-24  5884.335938  117295 -0.139771    -0.150556  \n",
      "2008-11-25  5669.488281   92897 -0.036512    -0.037195  \n",
      "2008-11-26  5003.965332  124217 -0.117387    -0.124868  \n",
      "tza\n",
      "                 Open       High        Low      Close     Adj Close  Volume  \\\n",
      "Date                                                                           \n",
      "2008-11-20  1156320.0  1360608.0  1074720.0  1349184.0  1.302681e+06     142   \n",
      "2008-11-21  1257600.0  1503168.0  1113984.0  1125312.0  1.086525e+06     175   \n",
      "2008-11-24  1068576.0  1123392.0   848160.0   885984.0  8.554464e+05     107   \n",
      "2008-11-25   846624.0   939168.0   833088.0   843936.0  8.148478e+05     109   \n",
      "2008-11-26   903840.0   904992.0   688800.0   699456.0  6.753476e+05     154   \n",
      "\n",
      "             Returns  Log Returns  \n",
      "Date                               \n",
      "2008-11-20  0.200068     0.182378  \n",
      "2008-11-21 -0.165931    -0.181440  \n",
      "2008-11-24 -0.212677    -0.239117  \n",
      "2008-11-25 -0.047459    -0.048622  \n",
      "2008-11-26 -0.171198    -0.187774  \n",
      "ubt\n",
      "                 Open       High        Low      Close  Adj Close  Volume  \\\n",
      "Date                                                                        \n",
      "2010-01-25  17.817499  17.927500  17.797501  17.799999  16.077835  228000   \n",
      "2010-01-26  17.825001  17.852501  17.715000  17.730000  16.014608   38800   \n",
      "2010-01-27  17.862499  18.004999  17.742500  17.832500  16.107193   96000   \n",
      "2010-01-28  17.639999  17.844999  17.637501  17.764999  16.046227  358800   \n",
      "2010-01-29  17.737499  18.105000  17.705000  18.082500  16.333010  257200   \n",
      "\n",
      "             Returns  Log Returns  \n",
      "Date                               \n",
      "2010-01-25 -0.010561    -0.010618  \n",
      "2010-01-26 -0.003933    -0.003940  \n",
      "2010-01-27  0.005781     0.005765  \n",
      "2010-01-28 -0.003785    -0.003792  \n",
      "2010-01-29  0.017872     0.017714  \n",
      "uco\n",
      "                Open      High       Low    Close  Adj Close   Volume  \\\n",
      "Date                                                                    \n",
      "2017-03-29  108.9375  113.5625  108.8750  112.875    112.875  1172736   \n",
      "2017-03-30  115.2500  117.8125  114.5000  117.250    117.250  1302976   \n",
      "2017-03-31  116.1250  119.3750  116.0000  118.875    118.875   961168   \n",
      "2017-04-03  118.2500  118.6875  116.1875  116.875    116.875   664800   \n",
      "2017-04-04  118.6250  121.0000  117.8750  120.500    120.500   795392   \n",
      "\n",
      "             Returns  Log Returns  \n",
      "Date                               \n",
      "2017-03-29  0.042123     0.041260  \n",
      "2017-03-30  0.038760     0.038027  \n",
      "2017-03-31  0.013859     0.013764  \n",
      "2017-04-03 -0.016824    -0.016968  \n",
      "2017-04-04  0.031016     0.030545  \n",
      "ung\n",
      "                 Open       High        Low      Close  Adj Close   Volume  \\\n",
      "Date                                                                         \n",
      "2012-02-09  84.000000  88.000000  81.919998  83.839996  83.839996  2622913   \n",
      "2012-02-10  84.959999  84.959999  83.360001  84.320000  84.320000   761713   \n",
      "2012-02-13  82.559998  84.160004  82.239998  82.879997  82.879997  1106313   \n",
      "2012-02-14  85.599998  86.879997  85.120003  86.080002  86.080002  1719563   \n",
      "2012-02-15  84.959999  85.279999  81.919998  83.040001  83.040001  1574744   \n",
      "\n",
      "             Returns  Log Returns  \n",
      "Date                               \n",
      "2012-02-09  0.009634     0.009588  \n",
      "2012-02-10  0.005725     0.005709  \n",
      "2012-02-13 -0.017078    -0.017225  \n",
      "2012-02-14  0.038610     0.037883  \n",
      "2012-02-15 -0.035316    -0.035955  \n",
      "upro\n",
      "                Open      High       Low     Close  Adj Close    Volume  \\\n",
      "Date                                                                      \n",
      "2009-06-29  1.208333  1.236111  1.191389  1.233333   1.192567   8690400   \n",
      "2009-06-30  1.233333  1.243333  1.176389  1.203889   1.164096  17128800   \n",
      "2009-07-01  1.218472  1.252917  1.213611  1.216806   1.176586  12038400   \n",
      "2009-07-02  1.169306  1.169861  1.115972  1.116389   1.079488  29275200   \n",
      "2009-07-06  1.085556  1.120694  1.074306  1.119444   1.082442  22572000   \n",
      "\n",
      "             Returns  Log Returns  \n",
      "Date                               \n",
      "2009-06-29  0.028373     0.027977  \n",
      "2009-06-30 -0.023874    -0.024163  \n",
      "2009-07-01  0.010729     0.010672  \n",
      "2009-07-02 -0.082525    -0.086130  \n",
      "2009-07-06  0.002736     0.002733  \n",
      "uso\n",
      "                 Open       High        Low      Close  Adj Close   Volume  \\\n",
      "Date                                                                         \n",
      "2017-03-29  81.440002  83.199997  81.360001  82.959999  82.959999  2894438   \n",
      "2017-03-30  83.760002  84.720001  83.519997  84.559998  84.559998  3571350   \n",
      "2017-03-31  84.160004  85.279999  84.080002  85.120003  85.120003  2428825   \n",
      "2017-04-03  84.959999  85.040001  84.160004  84.400002  84.400002  2099513   \n",
      "2017-04-04  85.040001  85.919998  84.720001  85.680000  85.680000  3048200   \n",
      "\n",
      "             Returns  Log Returns  \n",
      "Date                               \n",
      "2017-03-29  0.021675     0.021443  \n",
      "2017-03-30  0.019286     0.019103  \n",
      "2017-03-31  0.006623     0.006601  \n",
      "2017-04-03 -0.008459    -0.008495  \n",
      "2017-04-04  0.015166     0.015052  \n",
      "uvxy\n",
      "                    Open          High           Low         Close  \\\n",
      "Date                                                                 \n",
      "2011-10-06  1.811400e+09  1.878000e+09  1.740000e+09  1.740000e+09   \n",
      "2011-10-07  1.705800e+09  1.857600e+09  1.684800e+09  1.765200e+09   \n",
      "2011-10-10  1.654800e+09  1.656000e+09  1.559400e+09  1.559400e+09   \n",
      "2011-10-11  1.570200e+09  1.572600e+09  1.491000e+09  1.506000e+09   \n",
      "2011-10-12  1.394400e+09  1.394400e+09  1.248600e+09  1.287600e+09   \n",
      "\n",
      "               Adj Close  Volume   Returns  Log Returns  \n",
      "Date                                                     \n",
      "2011-10-06  1.740000e+09       0 -0.040688    -0.041539  \n",
      "2011-10-07  1.765200e+09       0  0.014483     0.014379  \n",
      "2011-10-10  1.559400e+09       0 -0.116587    -0.123963  \n",
      "2011-10-11  1.506000e+09       0 -0.034244    -0.034844  \n",
      "2011-10-12  1.287600e+09       0 -0.145020    -0.156677  \n",
      "uwm\n",
      "              Open   High     Low   Close  Adj Close    Volume   Returns  \\\n",
      "Date                                                                       \n",
      "2008-11-20  3.6125  3.785  3.1525  3.1525   3.061760  47731600 -0.139836   \n",
      "2008-11-21  3.3250  3.560  2.9475  3.5325   3.430821  46645600  0.120539   \n",
      "2008-11-24  3.6275  4.110  3.5425  3.9950   3.880009  35409200  0.130927   \n",
      "2008-11-25  4.1425  4.175  3.8550  4.1375   4.018407  29933200  0.035670   \n",
      "2008-11-26  3.9775  4.670  3.9650  4.6000   4.467594  27706000  0.111782   \n",
      "\n",
      "            Log Returns  \n",
      "Date                     \n",
      "2008-11-20    -0.150632  \n",
      "2008-11-21     0.113810  \n",
      "2008-11-24     0.123038  \n",
      "2008-11-25     0.035048  \n",
      "2008-11-26     0.105964  \n",
      "vixy\n",
      "               Open     High      Low    Close  Adj Close  Volume   Returns  \\\n",
      "Date                                                                          \n",
      "2011-10-06  43296.0  44024.0  42280.0  42344.0    42344.0     483 -0.016719   \n",
      "2011-10-07  41520.0  43840.0  41488.0  43112.0    43112.0    1126  0.018137   \n",
      "2011-10-10  41320.0  41400.0  39968.0  39984.0    39984.0     476 -0.072555   \n",
      "2011-10-11  40472.0  40472.0  39220.0  39508.0    39508.0     321 -0.011905   \n",
      "2011-10-12  38064.0  38244.0  36104.0  36840.0    36840.0     685 -0.067531   \n",
      "\n",
      "            Log Returns  \n",
      "Date                     \n",
      "2011-10-06    -0.016861  \n",
      "2011-10-07     0.017975  \n",
      "2011-10-10    -0.075322  \n",
      "2011-10-11    -0.011976  \n",
      "2011-10-12    -0.069919  \n",
      "vxx\n",
      "                  Open        High         Low       Close   Adj Close  \\\n",
      "Date                                                                     \n",
      "2018-01-26  442.559998  442.559998  442.559998  442.559998  442.559998   \n",
      "2018-01-29  467.200012  473.279999  467.200012  473.279999  473.279999   \n",
      "2018-01-30  492.640015  508.959991  487.839996  488.799988  488.799988   \n",
      "2018-01-31  479.359985  490.880005  479.359985  490.399994  490.399994   \n",
      "2018-02-01  482.399994  482.399994  462.720001  465.712006  465.712006   \n",
      "\n",
      "            Volume   Returns  Log Returns  \n",
      "Date                                       \n",
      "2018-01-26       0  0.000000     0.000000  \n",
      "2018-01-29      88  0.069414     0.067111  \n",
      "2018-01-30    3956  0.032792     0.032266  \n",
      "2018-01-31     575  0.003273     0.003268  \n",
      "2018-02-01     675 -0.050343    -0.051654  \n"
     ]
    }
   ],
   "source": [
    "# Define the directory where the CSV files are located\n",
    "csv_dir = 'C:/Users/Atakan/Documents/Project_ETPs'\n",
    "\n",
    "# Loop through the CSV files in the directory\n",
    "for filename in os.listdir(csv_dir):\n",
    "    if filename.endswith('.csv'):\n",
    "        # Read the CSV file into a DataFrame\n",
    "        filepath = os.path.join(csv_dir, filename)\n",
    "        df = pd.read_csv(filepath, index_col=0)\n",
    "        \n",
    "        # Calculate returns as the percentage change in price from one row to the next\n",
    "        df['Returns'] = df['Adj Close'].pct_change()\n",
    "        \n",
    "        # Calculate log returns as the log difference in price from one row to the next\n",
    "        df['Log Returns'] = np.log(df['Adj Close']).diff()\n",
    "        \n",
    "        # drop rows with NaN values in column 'Returns'\n",
    "        df.dropna(subset=['Returns'], inplace=True)\n",
    "        \n",
    "        # Define the name of the DataFrame\n",
    "        df_name = os.path.splitext(filename)[0]\n",
    "        \n",
    "        # Assign the DataFrame to a variable with the appropriate name\n",
    "        exec('{} = df'.format(df_name))\n",
    "        \n",
    "        # Print the first few rows of the DataFrame\n",
    "        print(df_name)\n",
    "        print(df.head())"
   ]
  },
  {
   "cell_type": "markdown",
   "id": "2dbca7ea",
   "metadata": {},
   "source": [
    "## Create Panels \n",
    "\n",
    "### S&P\n",
    "\n",
    "We are creating the panels of data where we compare funds to their benchmarks. "
   ]
  },
  {
   "cell_type": "markdown",
   "id": "133a24f4",
   "metadata": {},
   "source": [
    "We need to know how many observations on benchmark and Benchmark Holding Period Return (HPR)\n",
    "\n",
    "Let's start with S&P 500"
   ]
  },
  {
   "cell_type": "code",
   "execution_count": 3,
   "id": "28c94e5e",
   "metadata": {},
   "outputs": [
    {
     "data": {
      "text/plain": [
       "(3463, 8)"
      ]
     },
     "execution_count": 3,
     "metadata": {},
     "output_type": "execute_result"
    }
   ],
   "source": [
    "spx.shape"
   ]
  },
  {
   "cell_type": "code",
   "execution_count": 4,
   "id": "ee35fd51",
   "metadata": {},
   "outputs": [
    {
     "data": {
      "text/plain": [
       "3.368743637988443"
      ]
     },
     "execution_count": 4,
     "metadata": {},
     "output_type": "execute_result"
    }
   ],
   "source": [
    "start_value = spx.iloc[0]['Adj Close']\n",
    "end_value = spx.iloc[-1]['Adj Close']\n",
    "\n",
    "benchmark_HPR = (end_value/start_value)-1\n",
    "benchmark_HPR"
   ]
  },
  {
   "cell_type": "markdown",
   "id": "1a82b95b",
   "metadata": {},
   "source": [
    "S&P 500 Observations: 3463 and HPR is 336.87% during the period of June 26, 2009 - March 31, 2023"
   ]
  },
  {
   "cell_type": "markdown",
   "id": "d1ba5ac9",
   "metadata": {},
   "source": [
    "Let's create an emty Pandas dataframe for our panel starting from inverse -3 to levereged 3 funds top to bottom respectively"
   ]
  },
  {
   "cell_type": "code",
   "execution_count": 5,
   "id": "a15c9acb",
   "metadata": {},
   "outputs": [
    {
     "data": {
      "text/html": [
       "<div>\n",
       "<style scoped>\n",
       "    .dataframe tbody tr th:only-of-type {\n",
       "        vertical-align: middle;\n",
       "    }\n",
       "\n",
       "    .dataframe tbody tr th {\n",
       "        vertical-align: top;\n",
       "    }\n",
       "\n",
       "    .dataframe thead th {\n",
       "        text-align: right;\n",
       "    }\n",
       "</style>\n",
       "<table border=\"1\" class=\"dataframe\">\n",
       "  <thead>\n",
       "    <tr style=\"text-align: right;\">\n",
       "      <th></th>\n",
       "    </tr>\n",
       "    <tr>\n",
       "      <th>funds</th>\n",
       "    </tr>\n",
       "  </thead>\n",
       "  <tbody>\n",
       "    <tr>\n",
       "      <th>spxs</th>\n",
       "    </tr>\n",
       "    <tr>\n",
       "      <th>spxu</th>\n",
       "    </tr>\n",
       "    <tr>\n",
       "      <th>sds</th>\n",
       "    </tr>\n",
       "    <tr>\n",
       "      <th>sh</th>\n",
       "    </tr>\n",
       "    <tr>\n",
       "      <th>sso</th>\n",
       "    </tr>\n",
       "    <tr>\n",
       "      <th>spxl</th>\n",
       "    </tr>\n",
       "    <tr>\n",
       "      <th>upro</th>\n",
       "    </tr>\n",
       "  </tbody>\n",
       "</table>\n",
       "</div>"
      ],
      "text/plain": [
       "Empty DataFrame\n",
       "Columns: []\n",
       "Index: [spxs, spxu, sds, sh, sso, spxl, upro]"
      ]
     },
     "execution_count": 5,
     "metadata": {},
     "output_type": "execute_result"
    }
   ],
   "source": [
    "spx_fund_names = ['spxs', 'spxu', 'sds', 'sh', 'sso', 'spxl', 'upro']\n",
    "\n",
    "spx_te_df = pd.DataFrame(columns=[])\n",
    "spx_te_df['funds'] = spx_fund_names\n",
    "spx_te_df= spx_te_df.set_index('funds')\n",
    "spx_te_df"
   ]
  },
  {
   "cell_type": "markdown",
   "id": "4ea01a0c",
   "metadata": {},
   "source": [
    "### Use a method to calculate Tracking Error, Mean Difference, and RATD\n",
    "\n",
    "Here we define a method/function to use for our calculations and then we will be appending those into lists manually. Where we can also add some data we collect from their website such as \"Expense Ratio\". And of course a column for information of \"Inverse/Levered\"."
   ]
  },
  {
   "cell_type": "code",
   "execution_count": 6,
   "id": "02322ad2",
   "metadata": {},
   "outputs": [],
   "source": [
    "def risk_adjusted_tracking_difference(portfolio_returns, benchmark_returns):\n",
    "    # Calculate tracking error as the standard deviation of the difference in returns\n",
    "    tracking_error = round(np.std(portfolio_returns - benchmark_returns, ddof=1), 4)\n",
    "\n",
    "    # Calculate the difference in means of the returns\n",
    "    mean_difference = round(np.mean(portfolio_returns - benchmark_returns), 4)\n",
    "\n",
    "    # Calculate the risk-adjusted tracking difference\n",
    "    ratd = round((mean_difference / tracking_error), 4)\n",
    "    \n",
    "    return tracking_error, mean_difference, ratd\n"
   ]
  },
  {
   "cell_type": "code",
   "execution_count": 7,
   "id": "70070b4a",
   "metadata": {},
   "outputs": [
    {
     "data": {
      "text/plain": [
       "(0.0445, -0.0022, -0.0494)"
      ]
     },
     "execution_count": 7,
     "metadata": {},
     "output_type": "execute_result"
    }
   ],
   "source": [
    "risk_adjusted_tracking_difference(spxs['Returns'], spx['Returns'])"
   ]
  },
  {
   "cell_type": "code",
   "execution_count": 8,
   "id": "29e61cb4",
   "metadata": {},
   "outputs": [
    {
     "data": {
      "text/plain": [
       "(0.0443, -0.0021, -0.0474)"
      ]
     },
     "execution_count": 8,
     "metadata": {},
     "output_type": "execute_result"
    }
   ],
   "source": [
    "risk_adjusted_tracking_difference(spxu['Returns'], spx['Returns'])"
   ]
  },
  {
   "cell_type": "code",
   "execution_count": 9,
   "id": "18ba9af2",
   "metadata": {},
   "outputs": [
    {
     "data": {
      "text/plain": [
       "(0.0334, -0.0016, -0.0479)"
      ]
     },
     "execution_count": 9,
     "metadata": {},
     "output_type": "execute_result"
    }
   ],
   "source": [
    "risk_adjusted_tracking_difference(sds['Returns'], spx['Returns'])"
   ]
  },
  {
   "cell_type": "code",
   "execution_count": 10,
   "id": "34d4ad41",
   "metadata": {},
   "outputs": [
    {
     "data": {
      "text/plain": [
       "(0.0223, -0.001, -0.0448)"
      ]
     },
     "execution_count": 10,
     "metadata": {},
     "output_type": "execute_result"
    }
   ],
   "source": [
    "risk_adjusted_tracking_difference(sh['Returns'], spx['Returns'])"
   ]
  },
  {
   "cell_type": "code",
   "execution_count": 11,
   "id": "2a2dc82b",
   "metadata": {},
   "outputs": [
    {
     "data": {
      "text/plain": [
       "(0.0111, 0.0006, 0.0541)"
      ]
     },
     "execution_count": 11,
     "metadata": {},
     "output_type": "execute_result"
    }
   ],
   "source": [
    "risk_adjusted_tracking_difference(sso['Returns'], spx['Returns'])"
   ]
  },
  {
   "cell_type": "code",
   "execution_count": 12,
   "id": "22a87395",
   "metadata": {},
   "outputs": [
    {
     "data": {
      "text/plain": [
       "(0.0221, 0.0011, 0.0498)"
      ]
     },
     "execution_count": 12,
     "metadata": {},
     "output_type": "execute_result"
    }
   ],
   "source": [
    "risk_adjusted_tracking_difference(spxl['Returns'], spx['Returns'])"
   ]
  },
  {
   "cell_type": "code",
   "execution_count": 13,
   "id": "1f699ff0",
   "metadata": {},
   "outputs": [
    {
     "data": {
      "text/plain": [
       "(0.0221, 0.0011, 0.0498)"
      ]
     },
     "execution_count": 13,
     "metadata": {},
     "output_type": "execute_result"
    }
   ],
   "source": [
    "risk_adjusted_tracking_difference(upro['Returns'], spx['Returns'])"
   ]
  },
  {
   "cell_type": "code",
   "execution_count": 14,
   "id": "680316a5",
   "metadata": {},
   "outputs": [],
   "source": [
    "spx_te_df['Inverse/Levered'] = ['-3x','-3x','-2x','-1x','2x','3x','3x']\n",
    "spx_te_df['Expense Ratio(%)'] = ['1.08','0.90','0.90','0.89','0.89','1.00','0.91']\n",
    "spx_te_df['Tracking Error'] = [0.0445, 0.0443, 0.0334, 0.0223, 0.0111, 0.0221, 0.0221]\n",
    "spx_te_df['Mean(Tracking) Difference'] = [-0.0022,-0.0021,-0.0016,-0.001,0.0006,0.0011,0.0011]\n",
    "spx_te_df['RATD'] = [-0.0494,-0.0474,-0.0479,-0.0448,0.0541,0.0498,0.0498]"
   ]
  },
  {
   "cell_type": "code",
   "execution_count": 15,
   "id": "8738c83a",
   "metadata": {
    "scrolled": true
   },
   "outputs": [
    {
     "data": {
      "text/html": [
       "<div>\n",
       "<style scoped>\n",
       "    .dataframe tbody tr th:only-of-type {\n",
       "        vertical-align: middle;\n",
       "    }\n",
       "\n",
       "    .dataframe tbody tr th {\n",
       "        vertical-align: top;\n",
       "    }\n",
       "\n",
       "    .dataframe thead th {\n",
       "        text-align: right;\n",
       "    }\n",
       "</style>\n",
       "<table border=\"1\" class=\"dataframe\">\n",
       "  <thead>\n",
       "    <tr style=\"text-align: right;\">\n",
       "      <th></th>\n",
       "      <th>Inverse/Levered</th>\n",
       "      <th>Expense Ratio(%)</th>\n",
       "      <th>Tracking Error</th>\n",
       "      <th>Mean(Tracking) Difference</th>\n",
       "      <th>RATD</th>\n",
       "    </tr>\n",
       "    <tr>\n",
       "      <th>funds</th>\n",
       "      <th></th>\n",
       "      <th></th>\n",
       "      <th></th>\n",
       "      <th></th>\n",
       "      <th></th>\n",
       "    </tr>\n",
       "  </thead>\n",
       "  <tbody>\n",
       "    <tr>\n",
       "      <th>spxs</th>\n",
       "      <td>-3x</td>\n",
       "      <td>1.08</td>\n",
       "      <td>0.0445</td>\n",
       "      <td>-0.0022</td>\n",
       "      <td>-0.0494</td>\n",
       "    </tr>\n",
       "    <tr>\n",
       "      <th>spxu</th>\n",
       "      <td>-3x</td>\n",
       "      <td>0.90</td>\n",
       "      <td>0.0443</td>\n",
       "      <td>-0.0021</td>\n",
       "      <td>-0.0474</td>\n",
       "    </tr>\n",
       "    <tr>\n",
       "      <th>sds</th>\n",
       "      <td>-2x</td>\n",
       "      <td>0.90</td>\n",
       "      <td>0.0334</td>\n",
       "      <td>-0.0016</td>\n",
       "      <td>-0.0479</td>\n",
       "    </tr>\n",
       "    <tr>\n",
       "      <th>sh</th>\n",
       "      <td>-1x</td>\n",
       "      <td>0.89</td>\n",
       "      <td>0.0223</td>\n",
       "      <td>-0.0010</td>\n",
       "      <td>-0.0448</td>\n",
       "    </tr>\n",
       "    <tr>\n",
       "      <th>sso</th>\n",
       "      <td>2x</td>\n",
       "      <td>0.89</td>\n",
       "      <td>0.0111</td>\n",
       "      <td>0.0006</td>\n",
       "      <td>0.0541</td>\n",
       "    </tr>\n",
       "    <tr>\n",
       "      <th>spxl</th>\n",
       "      <td>3x</td>\n",
       "      <td>1.00</td>\n",
       "      <td>0.0221</td>\n",
       "      <td>0.0011</td>\n",
       "      <td>0.0498</td>\n",
       "    </tr>\n",
       "    <tr>\n",
       "      <th>upro</th>\n",
       "      <td>3x</td>\n",
       "      <td>0.91</td>\n",
       "      <td>0.0221</td>\n",
       "      <td>0.0011</td>\n",
       "      <td>0.0498</td>\n",
       "    </tr>\n",
       "  </tbody>\n",
       "</table>\n",
       "</div>"
      ],
      "text/plain": [
       "      Inverse/Levered Expense Ratio(%)  Tracking Error  \\\n",
       "funds                                                    \n",
       "spxs              -3x             1.08          0.0445   \n",
       "spxu              -3x             0.90          0.0443   \n",
       "sds               -2x             0.90          0.0334   \n",
       "sh                -1x             0.89          0.0223   \n",
       "sso                2x             0.89          0.0111   \n",
       "spxl               3x             1.00          0.0221   \n",
       "upro               3x             0.91          0.0221   \n",
       "\n",
       "       Mean(Tracking) Difference    RATD  \n",
       "funds                                     \n",
       "spxs                     -0.0022 -0.0494  \n",
       "spxu                     -0.0021 -0.0474  \n",
       "sds                      -0.0016 -0.0479  \n",
       "sh                       -0.0010 -0.0448  \n",
       "sso                       0.0006  0.0541  \n",
       "spxl                      0.0011  0.0498  \n",
       "upro                      0.0011  0.0498  "
      ]
     },
     "execution_count": 15,
     "metadata": {},
     "output_type": "execute_result"
    }
   ],
   "source": [
    "spx_te_df"
   ]
  },
  {
   "cell_type": "markdown",
   "id": "e3bad3e2",
   "metadata": {},
   "source": [
    "## Return Summary\n",
    "\n",
    "We can run regression analysis to get some more data such as beta, t-value, Adj R square. And  later we can append these data into our dataframe."
   ]
  },
  {
   "cell_type": "code",
   "execution_count": 16,
   "id": "4a9c7b52",
   "metadata": {},
   "outputs": [],
   "source": [
    "def run_reg(dep, indep):\n",
    "    # Create a new DataFrame with the independent variable\n",
    "    X = indep[['Log Returns']]\n",
    "\n",
    "    # Add a constant to the independent variable\n",
    "    X = sm.add_constant(X)\n",
    "\n",
    "    # Create a new DataFrame with the dependent variable\n",
    "    y = dep['Log Returns']\n",
    "\n",
    "    # Fit the linear regression model\n",
    "    model = sm.OLS(y, X).fit()\n",
    "\n",
    "    # Print the model summary\n",
    "    print(model.summary())"
   ]
  },
  {
   "cell_type": "code",
   "execution_count": 17,
   "id": "2c537c9e",
   "metadata": {},
   "outputs": [
    {
     "name": "stdout",
     "output_type": "stream",
     "text": [
      "                            OLS Regression Results                            \n",
      "==============================================================================\n",
      "Dep. Variable:            Log Returns   R-squared:                       0.990\n",
      "Model:                            OLS   Adj. R-squared:                  0.990\n",
      "Method:                 Least Squares   F-statistic:                 3.551e+05\n",
      "Date:                Sat, 06 May 2023   Prob (F-statistic):               0.00\n",
      "Time:                        14:38:57   Log-Likelihood:                 14898.\n",
      "No. Observations:                3463   AIC:                        -2.979e+04\n",
      "Df Residuals:                    3461   BIC:                        -2.978e+04\n",
      "Df Model:                           1                                         \n",
      "Covariance Type:            nonrobust                                         \n",
      "===============================================================================\n",
      "                  coef    std err          t      P>|t|      [0.025      0.975]\n",
      "-------------------------------------------------------------------------------\n",
      "const          -0.0010   5.57e-05    -17.418      0.000      -0.001      -0.001\n",
      "Log Returns    -2.9584      0.005   -595.900      0.000      -2.968      -2.949\n",
      "==============================================================================\n",
      "Omnibus:                     5375.306   Durbin-Watson:                   1.500\n",
      "Prob(Omnibus):                  0.000   Jarque-Bera (JB):          5068629.391\n",
      "Skew:                          -9.445   Prob(JB):                         0.00\n",
      "Kurtosis:                     189.469   Cond. No.                         89.1\n",
      "==============================================================================\n",
      "\n",
      "Notes:\n",
      "[1] Standard Errors assume that the covariance matrix of the errors is correctly specified.\n"
     ]
    }
   ],
   "source": [
    "run_reg(spxs, spx)"
   ]
  },
  {
   "cell_type": "code",
   "execution_count": 18,
   "id": "bb5af796",
   "metadata": {},
   "outputs": [
    {
     "name": "stdout",
     "output_type": "stream",
     "text": [
      "                            OLS Regression Results                            \n",
      "==============================================================================\n",
      "Dep. Variable:            Log Returns   R-squared:                       0.989\n",
      "Model:                            OLS   Adj. R-squared:                  0.989\n",
      "Method:                 Least Squares   F-statistic:                 3.034e+05\n",
      "Date:                Sat, 06 May 2023   Prob (F-statistic):               0.00\n",
      "Time:                        14:38:59   Log-Likelihood:                 14652.\n",
      "No. Observations:                3463   AIC:                        -2.930e+04\n",
      "Df Residuals:                    3461   BIC:                        -2.929e+04\n",
      "Df Model:                           1                                         \n",
      "Covariance Type:            nonrobust                                         \n",
      "===============================================================================\n",
      "                  coef    std err          t      P>|t|      [0.025      0.975]\n",
      "-------------------------------------------------------------------------------\n",
      "const          -0.0009   5.98e-05    -15.661      0.000      -0.001      -0.001\n",
      "Log Returns    -2.9361      0.005   -550.852      0.000      -2.947      -2.926\n",
      "==============================================================================\n",
      "Omnibus:                     5428.331   Durbin-Watson:                   1.835\n",
      "Prob(Omnibus):                  0.000   Jarque-Bera (JB):          6400036.287\n",
      "Skew:                          -9.541   Prob(JB):                         0.00\n",
      "Kurtosis:                     212.740   Cond. No.                         89.1\n",
      "==============================================================================\n",
      "\n",
      "Notes:\n",
      "[1] Standard Errors assume that the covariance matrix of the errors is correctly specified.\n"
     ]
    }
   ],
   "source": [
    "run_reg(spxu, spx)"
   ]
  },
  {
   "cell_type": "code",
   "execution_count": 19,
   "id": "900b3aae",
   "metadata": {},
   "outputs": [
    {
     "name": "stdout",
     "output_type": "stream",
     "text": [
      "                            OLS Regression Results                            \n",
      "==============================================================================\n",
      "Dep. Variable:            Log Returns   R-squared:                       0.994\n",
      "Model:                            OLS   Adj. R-squared:                  0.994\n",
      "Method:                 Least Squares   F-statistic:                 5.449e+05\n",
      "Date:                Sat, 06 May 2023   Prob (F-statistic):               0.00\n",
      "Time:                        14:39:01   Log-Likelihood:                 17048.\n",
      "No. Observations:                3463   AIC:                        -3.409e+04\n",
      "Df Residuals:                    3461   BIC:                        -3.408e+04\n",
      "Df Model:                           1                                         \n",
      "Covariance Type:            nonrobust                                         \n",
      "===============================================================================\n",
      "                  coef    std err          t      P>|t|      [0.025      0.975]\n",
      "-------------------------------------------------------------------------------\n",
      "const          -0.0005      3e-05    -16.568      0.000      -0.001      -0.000\n",
      "Log Returns    -1.9699      0.003   -738.174      0.000      -1.975      -1.965\n",
      "==============================================================================\n",
      "Omnibus:                     5203.334   Durbin-Watson:                   1.679\n",
      "Prob(Omnibus):                  0.000   Jarque-Bera (JB):          4986216.015\n",
      "Skew:                          -8.800   Prob(JB):                         0.00\n",
      "Kurtosis:                     188.059   Cond. No.                         89.1\n",
      "==============================================================================\n",
      "\n",
      "Notes:\n",
      "[1] Standard Errors assume that the covariance matrix of the errors is correctly specified.\n"
     ]
    }
   ],
   "source": [
    "run_reg(sds, spx)"
   ]
  },
  {
   "cell_type": "code",
   "execution_count": 20,
   "id": "6fa9f287",
   "metadata": {},
   "outputs": [
    {
     "name": "stdout",
     "output_type": "stream",
     "text": [
      "                            OLS Regression Results                            \n",
      "==============================================================================\n",
      "Dep. Variable:            Log Returns   R-squared:                       0.994\n",
      "Model:                            OLS   Adj. R-squared:                  0.994\n",
      "Method:                 Least Squares   F-statistic:                 5.947e+05\n",
      "Date:                Sat, 06 May 2023   Prob (F-statistic):               0.00\n",
      "Time:                        14:39:03   Log-Likelihood:                 19579.\n",
      "No. Observations:                3463   AIC:                        -3.915e+04\n",
      "Df Residuals:                    3461   BIC:                        -3.914e+04\n",
      "Df Model:                           1                                         \n",
      "Covariance Type:            nonrobust                                         \n",
      "===============================================================================\n",
      "                  coef    std err          t      P>|t|      [0.025      0.975]\n",
      "-------------------------------------------------------------------------------\n",
      "const          -0.0002   1.44e-05    -12.987      0.000      -0.000      -0.000\n",
      "Log Returns    -0.9908      0.001   -771.192      0.000      -0.993      -0.988\n",
      "==============================================================================\n",
      "Omnibus:                     3535.598   Durbin-Watson:                   2.074\n",
      "Prob(Omnibus):                  0.000   Jarque-Bera (JB):           876850.659\n",
      "Skew:                          -4.457   Prob(JB):                         0.00\n",
      "Kurtosis:                      80.443   Cond. No.                         89.1\n",
      "==============================================================================\n",
      "\n",
      "Notes:\n",
      "[1] Standard Errors assume that the covariance matrix of the errors is correctly specified.\n"
     ]
    }
   ],
   "source": [
    "run_reg(sh, spx)"
   ]
  },
  {
   "cell_type": "code",
   "execution_count": 21,
   "id": "39ecc2af",
   "metadata": {},
   "outputs": [
    {
     "name": "stdout",
     "output_type": "stream",
     "text": [
      "                            OLS Regression Results                            \n",
      "==============================================================================\n",
      "Dep. Variable:            Log Returns   R-squared:                       0.997\n",
      "Model:                            OLS   Adj. R-squared:                  0.997\n",
      "Method:                 Least Squares   F-statistic:                 1.088e+06\n",
      "Date:                Sat, 06 May 2023   Prob (F-statistic):               0.00\n",
      "Time:                        14:39:04   Log-Likelihood:                 18206.\n",
      "No. Observations:                3463   AIC:                        -3.641e+04\n",
      "Df Residuals:                    3461   BIC:                        -3.640e+04\n",
      "Df Model:                           1                                         \n",
      "Covariance Type:            nonrobust                                         \n",
      "===============================================================================\n",
      "                  coef    std err          t      P>|t|      [0.025      0.975]\n",
      "-------------------------------------------------------------------------------\n",
      "const       -5.177e-05   2.14e-05     -2.414      0.016   -9.38e-05   -9.73e-06\n",
      "Log Returns     1.9920      0.002   1042.929      0.000       1.988       1.996\n",
      "==============================================================================\n",
      "Omnibus:                     1449.666   Durbin-Watson:                   2.691\n",
      "Prob(Omnibus):                  0.000   Jarque-Bera (JB):            46602.025\n",
      "Skew:                          -1.353   Prob(JB):                         0.00\n",
      "Kurtosis:                      20.766   Cond. No.                         89.1\n",
      "==============================================================================\n",
      "\n",
      "Notes:\n",
      "[1] Standard Errors assume that the covariance matrix of the errors is correctly specified.\n"
     ]
    }
   ],
   "source": [
    "run_reg(sso, spx)"
   ]
  },
  {
   "cell_type": "code",
   "execution_count": 22,
   "id": "049e5764",
   "metadata": {},
   "outputs": [
    {
     "name": "stdout",
     "output_type": "stream",
     "text": [
      "                            OLS Regression Results                            \n",
      "==============================================================================\n",
      "Dep. Variable:            Log Returns   R-squared:                       0.995\n",
      "Model:                            OLS   Adj. R-squared:                  0.995\n",
      "Method:                 Least Squares   F-statistic:                 6.779e+05\n",
      "Date:                Sat, 06 May 2023   Prob (F-statistic):               0.00\n",
      "Time:                        14:39:05   Log-Likelihood:                 15973.\n",
      "No. Observations:                3463   AIC:                        -3.194e+04\n",
      "Df Residuals:                    3461   BIC:                        -3.193e+04\n",
      "Df Model:                           1                                         \n",
      "Covariance Type:            nonrobust                                         \n",
      "===============================================================================\n",
      "                  coef    std err          t      P>|t|      [0.025      0.975]\n",
      "-------------------------------------------------------------------------------\n",
      "const          -0.0003   4.09e-05     -7.092      0.000      -0.000      -0.000\n",
      "Log Returns     2.9970      0.004    823.369      0.000       2.990       3.004\n",
      "==============================================================================\n",
      "Omnibus:                     3190.232   Durbin-Watson:                   2.119\n",
      "Prob(Omnibus):                  0.000   Jarque-Bera (JB):           325489.753\n",
      "Skew:                          -4.009   Prob(JB):                         0.00\n",
      "Kurtosis:                      49.813   Cond. No.                         89.1\n",
      "==============================================================================\n",
      "\n",
      "Notes:\n",
      "[1] Standard Errors assume that the covariance matrix of the errors is correctly specified.\n"
     ]
    }
   ],
   "source": [
    "run_reg(spxl, spx)"
   ]
  },
  {
   "cell_type": "code",
   "execution_count": 23,
   "id": "c6957166",
   "metadata": {
    "scrolled": false
   },
   "outputs": [
    {
     "name": "stdout",
     "output_type": "stream",
     "text": [
      "                            OLS Regression Results                            \n",
      "==============================================================================\n",
      "Dep. Variable:            Log Returns   R-squared:                       0.994\n",
      "Model:                            OLS   Adj. R-squared:                  0.994\n",
      "Method:                 Least Squares   F-statistic:                 5.836e+05\n",
      "Date:                Sat, 06 May 2023   Prob (F-statistic):               0.00\n",
      "Time:                        14:39:07   Log-Likelihood:                 15709.\n",
      "No. Observations:                3463   AIC:                        -3.141e+04\n",
      "Df Residuals:                    3461   BIC:                        -3.140e+04\n",
      "Df Model:                           1                                         \n",
      "Covariance Type:            nonrobust                                         \n",
      "===============================================================================\n",
      "                  coef    std err          t      P>|t|      [0.025      0.975]\n",
      "-------------------------------------------------------------------------------\n",
      "const          -0.0003   4.41e-05     -6.469      0.000      -0.000      -0.000\n",
      "Log Returns     3.0004      0.004    763.956      0.000       2.993       3.008\n",
      "==============================================================================\n",
      "Omnibus:                     3562.682   Durbin-Watson:                   2.348\n",
      "Prob(Omnibus):                  0.000   Jarque-Bera (JB):          1202722.138\n",
      "Skew:                          -4.410   Prob(JB):                         0.00\n",
      "Kurtosis:                      93.871   Cond. No.                         89.1\n",
      "==============================================================================\n",
      "\n",
      "Notes:\n",
      "[1] Standard Errors assume that the covariance matrix of the errors is correctly specified.\n"
     ]
    }
   ],
   "source": [
    "run_reg(upro, spx)"
   ]
  },
  {
   "cell_type": "markdown",
   "id": "6bf29d9c",
   "metadata": {},
   "source": [
    "### Add found data to our dataframe\n",
    "\n",
    "Here we append our data to our dataframe manually. "
   ]
  },
  {
   "cell_type": "code",
   "execution_count": 24,
   "id": "2d416601",
   "metadata": {},
   "outputs": [],
   "source": [
    "spx_te_df['Beta'] = [-2.9584,-2.9361,-1.9699,-0.9908,1.9920,2.9970,3.0004]\n",
    "spx_te_df['t'] = [-595.900,-550.852,-738.174,-771.192,1042.929,823.369,763.956]\n",
    "spx_te_df['Adj. R sq'] = [0.990,0.989,0.994,0.994,0.997,0.995,0.994]"
   ]
  },
  {
   "cell_type": "code",
   "execution_count": 25,
   "id": "46078a45",
   "metadata": {},
   "outputs": [
    {
     "data": {
      "text/html": [
       "<div>\n",
       "<style scoped>\n",
       "    .dataframe tbody tr th:only-of-type {\n",
       "        vertical-align: middle;\n",
       "    }\n",
       "\n",
       "    .dataframe tbody tr th {\n",
       "        vertical-align: top;\n",
       "    }\n",
       "\n",
       "    .dataframe thead th {\n",
       "        text-align: right;\n",
       "    }\n",
       "</style>\n",
       "<table border=\"1\" class=\"dataframe\">\n",
       "  <thead>\n",
       "    <tr style=\"text-align: right;\">\n",
       "      <th></th>\n",
       "      <th>Inverse/Levered</th>\n",
       "      <th>Expense Ratio(%)</th>\n",
       "      <th>Tracking Error</th>\n",
       "      <th>Mean(Tracking) Difference</th>\n",
       "      <th>RATD</th>\n",
       "      <th>Beta</th>\n",
       "      <th>t</th>\n",
       "      <th>Adj. R sq</th>\n",
       "    </tr>\n",
       "    <tr>\n",
       "      <th>funds</th>\n",
       "      <th></th>\n",
       "      <th></th>\n",
       "      <th></th>\n",
       "      <th></th>\n",
       "      <th></th>\n",
       "      <th></th>\n",
       "      <th></th>\n",
       "      <th></th>\n",
       "    </tr>\n",
       "  </thead>\n",
       "  <tbody>\n",
       "    <tr>\n",
       "      <th>spxs</th>\n",
       "      <td>-3x</td>\n",
       "      <td>1.08</td>\n",
       "      <td>0.0445</td>\n",
       "      <td>-0.0022</td>\n",
       "      <td>-0.0494</td>\n",
       "      <td>-2.9584</td>\n",
       "      <td>-595.900</td>\n",
       "      <td>0.990</td>\n",
       "    </tr>\n",
       "    <tr>\n",
       "      <th>spxu</th>\n",
       "      <td>-3x</td>\n",
       "      <td>0.90</td>\n",
       "      <td>0.0443</td>\n",
       "      <td>-0.0021</td>\n",
       "      <td>-0.0474</td>\n",
       "      <td>-2.9361</td>\n",
       "      <td>-550.852</td>\n",
       "      <td>0.989</td>\n",
       "    </tr>\n",
       "    <tr>\n",
       "      <th>sds</th>\n",
       "      <td>-2x</td>\n",
       "      <td>0.90</td>\n",
       "      <td>0.0334</td>\n",
       "      <td>-0.0016</td>\n",
       "      <td>-0.0479</td>\n",
       "      <td>-1.9699</td>\n",
       "      <td>-738.174</td>\n",
       "      <td>0.994</td>\n",
       "    </tr>\n",
       "    <tr>\n",
       "      <th>sh</th>\n",
       "      <td>-1x</td>\n",
       "      <td>0.89</td>\n",
       "      <td>0.0223</td>\n",
       "      <td>-0.0010</td>\n",
       "      <td>-0.0448</td>\n",
       "      <td>-0.9908</td>\n",
       "      <td>-771.192</td>\n",
       "      <td>0.994</td>\n",
       "    </tr>\n",
       "    <tr>\n",
       "      <th>sso</th>\n",
       "      <td>2x</td>\n",
       "      <td>0.89</td>\n",
       "      <td>0.0111</td>\n",
       "      <td>0.0006</td>\n",
       "      <td>0.0541</td>\n",
       "      <td>1.9920</td>\n",
       "      <td>1042.929</td>\n",
       "      <td>0.997</td>\n",
       "    </tr>\n",
       "    <tr>\n",
       "      <th>spxl</th>\n",
       "      <td>3x</td>\n",
       "      <td>1.00</td>\n",
       "      <td>0.0221</td>\n",
       "      <td>0.0011</td>\n",
       "      <td>0.0498</td>\n",
       "      <td>2.9970</td>\n",
       "      <td>823.369</td>\n",
       "      <td>0.995</td>\n",
       "    </tr>\n",
       "    <tr>\n",
       "      <th>upro</th>\n",
       "      <td>3x</td>\n",
       "      <td>0.91</td>\n",
       "      <td>0.0221</td>\n",
       "      <td>0.0011</td>\n",
       "      <td>0.0498</td>\n",
       "      <td>3.0004</td>\n",
       "      <td>763.956</td>\n",
       "      <td>0.994</td>\n",
       "    </tr>\n",
       "  </tbody>\n",
       "</table>\n",
       "</div>"
      ],
      "text/plain": [
       "      Inverse/Levered Expense Ratio(%)  Tracking Error  \\\n",
       "funds                                                    \n",
       "spxs              -3x             1.08          0.0445   \n",
       "spxu              -3x             0.90          0.0443   \n",
       "sds               -2x             0.90          0.0334   \n",
       "sh                -1x             0.89          0.0223   \n",
       "sso                2x             0.89          0.0111   \n",
       "spxl               3x             1.00          0.0221   \n",
       "upro               3x             0.91          0.0221   \n",
       "\n",
       "       Mean(Tracking) Difference    RATD    Beta         t  Adj. R sq  \n",
       "funds                                                                  \n",
       "spxs                     -0.0022 -0.0494 -2.9584  -595.900      0.990  \n",
       "spxu                     -0.0021 -0.0474 -2.9361  -550.852      0.989  \n",
       "sds                      -0.0016 -0.0479 -1.9699  -738.174      0.994  \n",
       "sh                       -0.0010 -0.0448 -0.9908  -771.192      0.994  \n",
       "sso                       0.0006  0.0541  1.9920  1042.929      0.997  \n",
       "spxl                      0.0011  0.0498  2.9970   823.369      0.995  \n",
       "upro                      0.0011  0.0498  3.0004   763.956      0.994  "
      ]
     },
     "execution_count": 25,
     "metadata": {},
     "output_type": "execute_result"
    }
   ],
   "source": [
    "spx_te_df"
   ]
  },
  {
   "cell_type": "markdown",
   "id": "17685bbd",
   "metadata": {},
   "source": [
    "### SPXS(dependent) and SPX(independent) Regression as an Example on how to read output data of Linear Regression\n",
    "\n",
    "This output is from a linear regression model. The dependent variable is \"Log Returns\" and there is one independent variable, which is also \"Log Returns\". \n",
    "\n",
    "The R-squared value of 0.990 indicates that 99% of the variation in the dependent variable is explained by the independent variable. \n",
    "\n",
    "The Adjusted R-squared value of 0.990 is similar to the R-squared value and takes into account the number of independent variables in the model. \n",
    "\n",
    "The F-statistic tests the overall significance of the regression model, and the probability associated with it is very low (less than 0.05), indicating that the model is significant. \n",
    "\n",
    "The coefficients associated with the constant and independent variable show the intercept and the slope of the regression line. \n",
    "\n",
    "The P-values associated with the coefficients indicate whether they are statistically significant or not, and in this case, they are both significant at a 5% significance level. \n",
    "\n",
    "The standard errors estimate the variability of the estimated coefficients, and the t-values show whether the coefficients are statistically significant or not. \n",
    "\n",
    "The confidence intervals provide a range of values within which the true population coefficients are likely to lie. \n",
    "\n",
    "The summary also includes additional information such as AIC and BIC, which are measures of the quality of the model fit. \n",
    "\n",
    "The Omnibus, Durbin-Watson, Jarque-Bera, and Kurtosis statistics provide additional information about the model assumptions and goodness of fit.\n",
    "\n",
    "In regression analysis, t-values are used to test the statistical significance of each coefficient estimate. In this case, the t-value for the intercept (const) is -17.418 and the t-value for the Log Returns variable is -595.900. The p-value for both coefficients is very small (p<0.05), indicating that both the intercept and the Log Returns variable are statistically significant.\n",
    "\n",
    "A t-value measures the number of standard deviations the coefficient is away from zero. In other words, it tells you how statistically significant the coefficient is. The larger the absolute value of the t-value, the more statistically significant the coefficient is. In this case, the t-value for the Log Returns variable is much larger than that of the intercept, indicating that the Log Returns variable is more statistically significant in explaining the variation in the dependent variable.\n",
    "\n",
    "A negative t-value indicates that the coefficient estimate for the independent variable is negative, i.e., there is a negative relationship between the independent variable and the dependent variable. In the context of regression analysis, the t-value is used to determine the statistical significance of the regression coefficient estimate.\n",
    "\n",
    "In the case of the regression result, the t-value for the coefficient of \"Log Returns\" is -595.900, which is quite large. This indicates that the estimated coefficient for \"Log Returns\" is significantly different from zero and has a strong effect on the dependent variable. The negative sign of the t-value suggests that the coefficient of \"Log Returns\" is negative and indicates an inverse relationship between the dependent variable and \"Log Returns\". The sign of the t-value does not necessarily imply the direction of causation between the independent and dependent variables. It only indicates the direction of the relationship between the variables.\n",
    "\n",
    "In statistical hypothesis testing, the null hypothesis is a statement that there is no significant difference between two variables or no effect of a certain treatment or intervention. On the other hand, the alternative hypothesis is the opposite of the null hypothesis, stating that there is a significant difference or effect.\n",
    "\n",
    "When a statistical test is conducted, a p-value is calculated, which represents the probability of obtaining the observed results or more extreme results if the null hypothesis is true. If the p-value is less than a predetermined significance level (usually 0.05), we reject the null hypothesis, and if it is greater than the significance level, we fail to reject the null hypothesis.\n",
    "\n",
    "In the regression output, under the \"P>|t|\" column, you can see the p-values associated with each coefficient. In this case, the p-value for the intercept is less than 0.05, indicating that it is significantly different from zero. On the other hand, the p-value for the Log Returns coefficient is equal to 0, indicating that it is significantly different from zero with a high level of confidence.\n",
    "\n",
    "Therefore, we cannot reject the alternative hypothesis that there is a significant relationship between the dependent variable and the independent variable, and the coefficient estimate (-2.9584) is a reliable estimate of the true population coefficient."
   ]
  },
  {
   "cell_type": "markdown",
   "id": "4c83e95e",
   "metadata": {},
   "source": [
    "## Add HPR column to the DataFrame\n",
    "\n",
    "Here we create a method to calculate holding period returns of the etfs and then we create a list to append them into our dataframe."
   ]
  },
  {
   "cell_type": "code",
   "execution_count": 26,
   "id": "698cfda0",
   "metadata": {},
   "outputs": [],
   "source": [
    "def etf_hpr(etf):\n",
    "    \n",
    "    start_value = etf.iloc[0]['Adj Close']\n",
    "    end_value = etf.iloc[-1]['Adj Close']\n",
    "    etf_HPR = round(((end_value/start_value)-1)*100, 2)\n",
    "    \n",
    "    return etf_HPR"
   ]
  },
  {
   "cell_type": "code",
   "execution_count": 27,
   "id": "8af4f089",
   "metadata": {},
   "outputs": [
    {
     "data": {
      "text/plain": [
       "-99.96"
      ]
     },
     "execution_count": 27,
     "metadata": {},
     "output_type": "execute_result"
    }
   ],
   "source": [
    "etf_hpr(spxs)"
   ]
  },
  {
   "cell_type": "code",
   "execution_count": 28,
   "id": "a688e89a",
   "metadata": {},
   "outputs": [
    {
     "data": {
      "text/plain": [
       "-99.95"
      ]
     },
     "execution_count": 28,
     "metadata": {},
     "output_type": "execute_result"
    }
   ],
   "source": [
    "etf_hpr(spxu)"
   ]
  },
  {
   "cell_type": "code",
   "execution_count": 29,
   "id": "4ce15dd2",
   "metadata": {},
   "outputs": [
    {
     "data": {
      "text/plain": [
       "-99.02"
      ]
     },
     "execution_count": 29,
     "metadata": {},
     "output_type": "execute_result"
    }
   ],
   "source": [
    "etf_hpr(sds)"
   ]
  },
  {
   "cell_type": "code",
   "execution_count": 30,
   "id": "42f7c3fb",
   "metadata": {},
   "outputs": [
    {
     "data": {
      "text/plain": [
       "-87.86"
      ]
     },
     "execution_count": 30,
     "metadata": {},
     "output_type": "execute_result"
    }
   ],
   "source": [
    "etf_hpr(sh)"
   ]
  },
  {
   "cell_type": "code",
   "execution_count": 31,
   "id": "6c75fd22",
   "metadata": {},
   "outputs": [
    {
     "data": {
      "text/plain": [
       "1475.66"
      ]
     },
     "execution_count": 31,
     "metadata": {},
     "output_type": "execute_result"
    }
   ],
   "source": [
    "etf_hpr(sso)"
   ]
  },
  {
   "cell_type": "code",
   "execution_count": 32,
   "id": "67cdb34d",
   "metadata": {},
   "outputs": [
    {
     "data": {
      "text/plain": [
       "2939.72"
      ]
     },
     "execution_count": 32,
     "metadata": {},
     "output_type": "execute_result"
    }
   ],
   "source": [
    "etf_hpr(spxl)"
   ]
  },
  {
   "cell_type": "code",
   "execution_count": 33,
   "id": "0d1409a5",
   "metadata": {},
   "outputs": [
    {
     "data": {
      "text/plain": [
       "3004.23"
      ]
     },
     "execution_count": 33,
     "metadata": {},
     "output_type": "execute_result"
    }
   ],
   "source": [
    "etf_hpr(upro)"
   ]
  },
  {
   "cell_type": "code",
   "execution_count": 34,
   "id": "57c9dc7e",
   "metadata": {},
   "outputs": [],
   "source": [
    "spx_te_df['HPR %'] = [-99.96, -99.95, -99.02, -87.86, 1475.66, 2939.72, 3004.23]"
   ]
  },
  {
   "cell_type": "code",
   "execution_count": 35,
   "id": "63e9e9b2",
   "metadata": {},
   "outputs": [
    {
     "data": {
      "text/html": [
       "<div>\n",
       "<style scoped>\n",
       "    .dataframe tbody tr th:only-of-type {\n",
       "        vertical-align: middle;\n",
       "    }\n",
       "\n",
       "    .dataframe tbody tr th {\n",
       "        vertical-align: top;\n",
       "    }\n",
       "\n",
       "    .dataframe thead th {\n",
       "        text-align: right;\n",
       "    }\n",
       "</style>\n",
       "<table border=\"1\" class=\"dataframe\">\n",
       "  <thead>\n",
       "    <tr style=\"text-align: right;\">\n",
       "      <th></th>\n",
       "      <th>Inverse/Levered</th>\n",
       "      <th>Expense Ratio(%)</th>\n",
       "      <th>Tracking Error</th>\n",
       "      <th>Mean(Tracking) Difference</th>\n",
       "      <th>RATD</th>\n",
       "      <th>Beta</th>\n",
       "      <th>t</th>\n",
       "      <th>Adj. R sq</th>\n",
       "      <th>HPR %</th>\n",
       "    </tr>\n",
       "    <tr>\n",
       "      <th>funds</th>\n",
       "      <th></th>\n",
       "      <th></th>\n",
       "      <th></th>\n",
       "      <th></th>\n",
       "      <th></th>\n",
       "      <th></th>\n",
       "      <th></th>\n",
       "      <th></th>\n",
       "      <th></th>\n",
       "    </tr>\n",
       "  </thead>\n",
       "  <tbody>\n",
       "    <tr>\n",
       "      <th>spxs</th>\n",
       "      <td>-3x</td>\n",
       "      <td>1.08</td>\n",
       "      <td>0.0445</td>\n",
       "      <td>-0.0022</td>\n",
       "      <td>-0.0494</td>\n",
       "      <td>-2.9584</td>\n",
       "      <td>-595.900</td>\n",
       "      <td>0.990</td>\n",
       "      <td>-99.96</td>\n",
       "    </tr>\n",
       "    <tr>\n",
       "      <th>spxu</th>\n",
       "      <td>-3x</td>\n",
       "      <td>0.90</td>\n",
       "      <td>0.0443</td>\n",
       "      <td>-0.0021</td>\n",
       "      <td>-0.0474</td>\n",
       "      <td>-2.9361</td>\n",
       "      <td>-550.852</td>\n",
       "      <td>0.989</td>\n",
       "      <td>-99.95</td>\n",
       "    </tr>\n",
       "    <tr>\n",
       "      <th>sds</th>\n",
       "      <td>-2x</td>\n",
       "      <td>0.90</td>\n",
       "      <td>0.0334</td>\n",
       "      <td>-0.0016</td>\n",
       "      <td>-0.0479</td>\n",
       "      <td>-1.9699</td>\n",
       "      <td>-738.174</td>\n",
       "      <td>0.994</td>\n",
       "      <td>-99.02</td>\n",
       "    </tr>\n",
       "    <tr>\n",
       "      <th>sh</th>\n",
       "      <td>-1x</td>\n",
       "      <td>0.89</td>\n",
       "      <td>0.0223</td>\n",
       "      <td>-0.0010</td>\n",
       "      <td>-0.0448</td>\n",
       "      <td>-0.9908</td>\n",
       "      <td>-771.192</td>\n",
       "      <td>0.994</td>\n",
       "      <td>-87.86</td>\n",
       "    </tr>\n",
       "    <tr>\n",
       "      <th>sso</th>\n",
       "      <td>2x</td>\n",
       "      <td>0.89</td>\n",
       "      <td>0.0111</td>\n",
       "      <td>0.0006</td>\n",
       "      <td>0.0541</td>\n",
       "      <td>1.9920</td>\n",
       "      <td>1042.929</td>\n",
       "      <td>0.997</td>\n",
       "      <td>1475.66</td>\n",
       "    </tr>\n",
       "    <tr>\n",
       "      <th>spxl</th>\n",
       "      <td>3x</td>\n",
       "      <td>1.00</td>\n",
       "      <td>0.0221</td>\n",
       "      <td>0.0011</td>\n",
       "      <td>0.0498</td>\n",
       "      <td>2.9970</td>\n",
       "      <td>823.369</td>\n",
       "      <td>0.995</td>\n",
       "      <td>2939.72</td>\n",
       "    </tr>\n",
       "    <tr>\n",
       "      <th>upro</th>\n",
       "      <td>3x</td>\n",
       "      <td>0.91</td>\n",
       "      <td>0.0221</td>\n",
       "      <td>0.0011</td>\n",
       "      <td>0.0498</td>\n",
       "      <td>3.0004</td>\n",
       "      <td>763.956</td>\n",
       "      <td>0.994</td>\n",
       "      <td>3004.23</td>\n",
       "    </tr>\n",
       "  </tbody>\n",
       "</table>\n",
       "</div>"
      ],
      "text/plain": [
       "      Inverse/Levered Expense Ratio(%)  Tracking Error  \\\n",
       "funds                                                    \n",
       "spxs              -3x             1.08          0.0445   \n",
       "spxu              -3x             0.90          0.0443   \n",
       "sds               -2x             0.90          0.0334   \n",
       "sh                -1x             0.89          0.0223   \n",
       "sso                2x             0.89          0.0111   \n",
       "spxl               3x             1.00          0.0221   \n",
       "upro               3x             0.91          0.0221   \n",
       "\n",
       "       Mean(Tracking) Difference    RATD    Beta         t  Adj. R sq    HPR %  \n",
       "funds                                                                           \n",
       "spxs                     -0.0022 -0.0494 -2.9584  -595.900      0.990   -99.96  \n",
       "spxu                     -0.0021 -0.0474 -2.9361  -550.852      0.989   -99.95  \n",
       "sds                      -0.0016 -0.0479 -1.9699  -738.174      0.994   -99.02  \n",
       "sh                       -0.0010 -0.0448 -0.9908  -771.192      0.994   -87.86  \n",
       "sso                       0.0006  0.0541  1.9920  1042.929      0.997  1475.66  \n",
       "spxl                      0.0011  0.0498  2.9970   823.369      0.995  2939.72  \n",
       "upro                      0.0011  0.0498  3.0004   763.956      0.994  3004.23  "
      ]
     },
     "execution_count": 35,
     "metadata": {},
     "output_type": "execute_result"
    }
   ],
   "source": [
    "spx_te_df"
   ]
  },
  {
   "cell_type": "markdown",
   "id": "17bc915e",
   "metadata": {},
   "source": [
    "This table provides information on the expense ratio, tracking error, mean tracking difference, risk-adjusted tracking difference (RATD), beta, t-value, adjusted R-squared, and HPR% (holding period return) for seven leveraged and inverse ETFs (exchange-traded funds) that are designed to track the performance of the S&P 500 index. The funds are categorized based on their inverse or leveraged exposure, ranging from -3x to 3x.\n",
    "\n",
    "The data suggests that the leveraged funds (SSO, SPXL, and UPRO) generally have a higher expense ratio and HPR% compared to the inverse funds (SPXS, SPXU, and SDS), but also higher tracking error and mean tracking difference. The -1x fund (SH) has the lowest expense ratio and HPR%, but also a low tracking error and mean tracking difference. The RATD values suggest that the leveraged funds have higher risk-adjusted tracking differences than the inverse funds, except for the -3x funds (SPXS and SPXU) which have negative RATD values indicating better tracking performance. The beta values suggest that the leveraged funds have higher market sensitivity than the inverse funds."
   ]
  },
  {
   "cell_type": "markdown",
   "id": "ebbf1ef8",
   "metadata": {},
   "source": [
    "### Russell 2000"
   ]
  },
  {
   "cell_type": "code",
   "execution_count": 47,
   "id": "c84aa0d5",
   "metadata": {},
   "outputs": [
    {
     "data": {
      "text/plain": [
       "(3613, 8)"
      ]
     },
     "execution_count": 47,
     "metadata": {},
     "output_type": "execute_result"
    }
   ],
   "source": [
    "rut.shape"
   ]
  },
  {
   "cell_type": "code",
   "execution_count": 45,
   "id": "c9ff598e",
   "metadata": {},
   "outputs": [
    {
     "data": {
      "text/plain": [
       "3.5894994059008205"
      ]
     },
     "execution_count": 45,
     "metadata": {},
     "output_type": "execute_result"
    }
   ],
   "source": [
    "start_value = rut.iloc[0]['Adj Close']\n",
    "end_value = rut.iloc[-1]['Adj Close']\n",
    "\n",
    "benchmark_HPR = (end_value/start_value)-1\n",
    "benchmark_HPR"
   ]
  },
  {
   "cell_type": "markdown",
   "id": "540c37f2",
   "metadata": {},
   "source": [
    "Russell 2000 Observeation Number is 3613 and HPR is 358.94% during the period of November 19 - March 31, 2023."
   ]
  },
  {
   "cell_type": "code",
   "execution_count": 54,
   "id": "5f605ddb",
   "metadata": {
    "scrolled": true
   },
   "outputs": [
    {
     "data": {
      "text/html": [
       "<div>\n",
       "<style scoped>\n",
       "    .dataframe tbody tr th:only-of-type {\n",
       "        vertical-align: middle;\n",
       "    }\n",
       "\n",
       "    .dataframe tbody tr th {\n",
       "        vertical-align: top;\n",
       "    }\n",
       "\n",
       "    .dataframe thead th {\n",
       "        text-align: right;\n",
       "    }\n",
       "</style>\n",
       "<table border=\"1\" class=\"dataframe\">\n",
       "  <thead>\n",
       "    <tr style=\"text-align: right;\">\n",
       "      <th></th>\n",
       "    </tr>\n",
       "    <tr>\n",
       "      <th>funds</th>\n",
       "    </tr>\n",
       "  </thead>\n",
       "  <tbody>\n",
       "    <tr>\n",
       "      <th>tza</th>\n",
       "    </tr>\n",
       "    <tr>\n",
       "      <th>twm</th>\n",
       "    </tr>\n",
       "    <tr>\n",
       "      <th>rwm</th>\n",
       "    </tr>\n",
       "    <tr>\n",
       "      <th>uwm</th>\n",
       "    </tr>\n",
       "    <tr>\n",
       "      <th>tna</th>\n",
       "    </tr>\n",
       "  </tbody>\n",
       "</table>\n",
       "</div>"
      ],
      "text/plain": [
       "Empty DataFrame\n",
       "Columns: []\n",
       "Index: [tza, twm, rwm, uwm, tna]"
      ]
     },
     "execution_count": 54,
     "metadata": {},
     "output_type": "execute_result"
    }
   ],
   "source": [
    "rut_fund_names = ['tza', 'twm', 'rwm', 'uwm', 'tna']\n",
    "\n",
    "rut_te_df = pd.DataFrame(columns=[])\n",
    "rut_te_df['funds'] = rut_fund_names\n",
    "rut_te_df= rut_te_df.set_index('funds')\n",
    "rut_te_df"
   ]
  },
  {
   "cell_type": "code",
   "execution_count": 55,
   "id": "7e163e96",
   "metadata": {},
   "outputs": [
    {
     "data": {
      "text/plain": [
       "(0.0613, -0.0024, -0.0392)"
      ]
     },
     "execution_count": 55,
     "metadata": {},
     "output_type": "execute_result"
    }
   ],
   "source": [
    "risk_adjusted_tracking_difference(tza['Returns'], rut['Returns'])"
   ]
  },
  {
   "cell_type": "code",
   "execution_count": 56,
   "id": "98bd5704",
   "metadata": {},
   "outputs": [
    {
     "data": {
      "text/plain": [
       "(0.0461, -0.0017, -0.0369)"
      ]
     },
     "execution_count": 56,
     "metadata": {},
     "output_type": "execute_result"
    }
   ],
   "source": [
    "risk_adjusted_tracking_difference(twm['Returns'], rut['Returns'])"
   ]
  },
  {
   "cell_type": "code",
   "execution_count": 57,
   "id": "36c0b4e8",
   "metadata": {},
   "outputs": [
    {
     "data": {
      "text/plain": [
       "(0.031, -0.0011, -0.0355)"
      ]
     },
     "execution_count": 57,
     "metadata": {},
     "output_type": "execute_result"
    }
   ],
   "source": [
    "risk_adjusted_tracking_difference(rwm['Returns'], rut['Returns'])"
   ]
  },
  {
   "cell_type": "code",
   "execution_count": 58,
   "id": "72810e92",
   "metadata": {},
   "outputs": [
    {
     "data": {
      "text/plain": [
       "(0.015, 0.0005, 0.0333)"
      ]
     },
     "execution_count": 58,
     "metadata": {},
     "output_type": "execute_result"
    }
   ],
   "source": [
    "risk_adjusted_tracking_difference(uwm['Returns'], rut['Returns'])"
   ]
  },
  {
   "cell_type": "code",
   "execution_count": 59,
   "id": "8300e56b",
   "metadata": {},
   "outputs": [
    {
     "data": {
      "text/plain": [
       "(0.0297, 0.001, 0.0337)"
      ]
     },
     "execution_count": 59,
     "metadata": {},
     "output_type": "execute_result"
    }
   ],
   "source": [
    "risk_adjusted_tracking_difference(tna['Returns'], rut['Returns'])"
   ]
  },
  {
   "cell_type": "code",
   "execution_count": 60,
   "id": "18c10e16",
   "metadata": {},
   "outputs": [],
   "source": [
    "rut_te_df['Inverse/Levered'] = ['-3x', '-2x','-1x','2x','3x']\n",
    "rut_te_df['Expense Ratio(%)'] = ['1.03','0.95','0.95','0.95','1.09']\n",
    "rut_te_df['Tracking Error'] = [0.0613, 0.0461, 0.031, 0.015, 0.0297]\n",
    "rut_te_df['Mean(Tracking) Difference'] = [-0.0024, -0.0017, -0.0011, 0.0005, 0.0010]\n",
    "rut_te_df['RATD'] = [-0.0392, -0.0369, -0.0355, 0.0333, 0.0337]"
   ]
  },
  {
   "cell_type": "code",
   "execution_count": 61,
   "id": "1d3d0c48",
   "metadata": {},
   "outputs": [
    {
     "data": {
      "text/html": [
       "<div>\n",
       "<style scoped>\n",
       "    .dataframe tbody tr th:only-of-type {\n",
       "        vertical-align: middle;\n",
       "    }\n",
       "\n",
       "    .dataframe tbody tr th {\n",
       "        vertical-align: top;\n",
       "    }\n",
       "\n",
       "    .dataframe thead th {\n",
       "        text-align: right;\n",
       "    }\n",
       "</style>\n",
       "<table border=\"1\" class=\"dataframe\">\n",
       "  <thead>\n",
       "    <tr style=\"text-align: right;\">\n",
       "      <th></th>\n",
       "      <th>Inverse/Levered</th>\n",
       "      <th>Expense Ratio(%)</th>\n",
       "      <th>Tracking Error</th>\n",
       "      <th>Mean(Tracking) Difference</th>\n",
       "      <th>RATD</th>\n",
       "    </tr>\n",
       "    <tr>\n",
       "      <th>funds</th>\n",
       "      <th></th>\n",
       "      <th></th>\n",
       "      <th></th>\n",
       "      <th></th>\n",
       "      <th></th>\n",
       "    </tr>\n",
       "  </thead>\n",
       "  <tbody>\n",
       "    <tr>\n",
       "      <th>tza</th>\n",
       "      <td>-3x</td>\n",
       "      <td>1.03</td>\n",
       "      <td>0.0613</td>\n",
       "      <td>-0.0024</td>\n",
       "      <td>-0.0392</td>\n",
       "    </tr>\n",
       "    <tr>\n",
       "      <th>twm</th>\n",
       "      <td>-2x</td>\n",
       "      <td>0.95</td>\n",
       "      <td>0.0461</td>\n",
       "      <td>-0.0017</td>\n",
       "      <td>-0.0369</td>\n",
       "    </tr>\n",
       "    <tr>\n",
       "      <th>rwm</th>\n",
       "      <td>-1x</td>\n",
       "      <td>0.95</td>\n",
       "      <td>0.0310</td>\n",
       "      <td>-0.0011</td>\n",
       "      <td>-0.0355</td>\n",
       "    </tr>\n",
       "    <tr>\n",
       "      <th>uwm</th>\n",
       "      <td>2x</td>\n",
       "      <td>0.95</td>\n",
       "      <td>0.0150</td>\n",
       "      <td>0.0005</td>\n",
       "      <td>0.0333</td>\n",
       "    </tr>\n",
       "    <tr>\n",
       "      <th>tna</th>\n",
       "      <td>3x</td>\n",
       "      <td>1.09</td>\n",
       "      <td>0.0297</td>\n",
       "      <td>0.0010</td>\n",
       "      <td>0.0337</td>\n",
       "    </tr>\n",
       "  </tbody>\n",
       "</table>\n",
       "</div>"
      ],
      "text/plain": [
       "      Inverse/Levered Expense Ratio(%)  Tracking Error  \\\n",
       "funds                                                    \n",
       "tza               -3x             1.03          0.0613   \n",
       "twm               -2x             0.95          0.0461   \n",
       "rwm               -1x             0.95          0.0310   \n",
       "uwm                2x             0.95          0.0150   \n",
       "tna                3x             1.09          0.0297   \n",
       "\n",
       "       Mean(Tracking) Difference    RATD  \n",
       "funds                                     \n",
       "tza                      -0.0024 -0.0392  \n",
       "twm                      -0.0017 -0.0369  \n",
       "rwm                      -0.0011 -0.0355  \n",
       "uwm                       0.0005  0.0333  \n",
       "tna                       0.0010  0.0337  "
      ]
     },
     "execution_count": 61,
     "metadata": {},
     "output_type": "execute_result"
    }
   ],
   "source": [
    "rut_te_df"
   ]
  },
  {
   "cell_type": "code",
   "execution_count": 62,
   "id": "e374a58f",
   "metadata": {},
   "outputs": [
    {
     "name": "stdout",
     "output_type": "stream",
     "text": [
      "                            OLS Regression Results                            \n",
      "==============================================================================\n",
      "Dep. Variable:            Log Returns   R-squared:                       0.983\n",
      "Model:                            OLS   Adj. R-squared:                  0.983\n",
      "Method:                 Least Squares   F-statistic:                 2.130e+05\n",
      "Date:                Sat, 06 May 2023   Prob (F-statistic):               0.00\n",
      "Time:                        15:46:40   Log-Likelihood:                 13417.\n",
      "No. Observations:                3613   AIC:                        -2.683e+04\n",
      "Df Residuals:                    3611   BIC:                        -2.682e+04\n",
      "Df Model:                           1                                         \n",
      "Covariance Type:            nonrobust                                         \n",
      "===============================================================================\n",
      "                  coef    std err          t      P>|t|      [0.025      0.975]\n",
      "-------------------------------------------------------------------------------\n",
      "const          -0.0017   9.82e-05    -17.505      0.000      -0.002      -0.002\n",
      "Log Returns    -2.8781      0.006   -461.506      0.000      -2.890      -2.866\n",
      "==============================================================================\n",
      "Omnibus:                     5006.789   Durbin-Watson:                   2.207\n",
      "Prob(Omnibus):                  0.000   Jarque-Bera (JB):          3655497.032\n",
      "Skew:                          -7.540   Prob(JB):                         0.00\n",
      "Kurtosis:                     158.096   Cond. No.                         63.5\n",
      "==============================================================================\n",
      "\n",
      "Notes:\n",
      "[1] Standard Errors assume that the covariance matrix of the errors is correctly specified.\n"
     ]
    }
   ],
   "source": [
    "run_reg(tza, rut)"
   ]
  },
  {
   "cell_type": "code",
   "execution_count": 63,
   "id": "58d4300f",
   "metadata": {},
   "outputs": [
    {
     "name": "stdout",
     "output_type": "stream",
     "text": [
      "                            OLS Regression Results                            \n",
      "==============================================================================\n",
      "Dep. Variable:            Log Returns   R-squared:                       0.983\n",
      "Model:                            OLS   Adj. R-squared:                  0.983\n",
      "Method:                 Least Squares   F-statistic:                 2.131e+05\n",
      "Date:                Sat, 06 May 2023   Prob (F-statistic):               0.00\n",
      "Time:                        15:47:53   Log-Likelihood:                 14891.\n",
      "No. Observations:                3613   AIC:                        -2.978e+04\n",
      "Df Residuals:                    3611   BIC:                        -2.976e+04\n",
      "Df Model:                           1                                         \n",
      "Covariance Type:            nonrobust                                         \n",
      "===============================================================================\n",
      "                  coef    std err          t      P>|t|      [0.025      0.975]\n",
      "-------------------------------------------------------------------------------\n",
      "const          -0.0009   6.53e-05    -13.778      0.000      -0.001      -0.001\n",
      "Log Returns    -1.9149      0.004   -461.613      0.000      -1.923      -1.907\n",
      "==============================================================================\n",
      "Omnibus:                     4694.742   Durbin-Watson:                   2.697\n",
      "Prob(Omnibus):                  0.000   Jarque-Bera (JB):          4601572.510\n",
      "Skew:                          -6.492   Prob(JB):                         0.00\n",
      "Kurtosis:                     177.351   Cond. No.                         63.5\n",
      "==============================================================================\n",
      "\n",
      "Notes:\n",
      "[1] Standard Errors assume that the covariance matrix of the errors is correctly specified.\n"
     ]
    }
   ],
   "source": [
    "run_reg(twm, rut)"
   ]
  },
  {
   "cell_type": "code",
   "execution_count": 64,
   "id": "b946fe76",
   "metadata": {},
   "outputs": [
    {
     "name": "stdout",
     "output_type": "stream",
     "text": [
      "                            OLS Regression Results                            \n",
      "==============================================================================\n",
      "Dep. Variable:            Log Returns   R-squared:                       0.989\n",
      "Model:                            OLS   Adj. R-squared:                  0.989\n",
      "Method:                 Least Squares   F-statistic:                 3.214e+05\n",
      "Date:                Sat, 06 May 2023   Prob (F-statistic):               0.00\n",
      "Time:                        15:48:08   Log-Likelihood:                 18102.\n",
      "No. Observations:                3613   AIC:                        -3.620e+04\n",
      "Df Residuals:                    3611   BIC:                        -3.619e+04\n",
      "Df Model:                           1                                         \n",
      "Covariance Type:            nonrobust                                         \n",
      "===============================================================================\n",
      "                  coef    std err          t      P>|t|      [0.025      0.975]\n",
      "-------------------------------------------------------------------------------\n",
      "const          -0.0003   2.69e-05    -12.148      0.000      -0.000      -0.000\n",
      "Log Returns    -0.9668      0.002   -566.953      0.000      -0.970      -0.963\n",
      "==============================================================================\n",
      "Omnibus:                     3362.399   Durbin-Watson:                   2.675\n",
      "Prob(Omnibus):                  0.000   Jarque-Bera (JB):          3122443.111\n",
      "Skew:                          -3.365   Prob(JB):                         0.00\n",
      "Kurtosis:                     146.861   Cond. No.                         63.5\n",
      "==============================================================================\n",
      "\n",
      "Notes:\n",
      "[1] Standard Errors assume that the covariance matrix of the errors is correctly specified.\n"
     ]
    }
   ],
   "source": [
    "run_reg(rwm, rut)"
   ]
  },
  {
   "cell_type": "code",
   "execution_count": 65,
   "id": "6693e372",
   "metadata": {},
   "outputs": [
    {
     "name": "stdout",
     "output_type": "stream",
     "text": [
      "                            OLS Regression Results                            \n",
      "==============================================================================\n",
      "Dep. Variable:            Log Returns   R-squared:                       0.990\n",
      "Model:                            OLS   Adj. R-squared:                  0.990\n",
      "Method:                 Least Squares   F-statistic:                 3.445e+05\n",
      "Date:                Sat, 06 May 2023   Prob (F-statistic):               0.00\n",
      "Time:                        15:48:23   Log-Likelihood:                 15700.\n",
      "No. Observations:                3613   AIC:                        -3.140e+04\n",
      "Df Residuals:                    3611   BIC:                        -3.138e+04\n",
      "Df Model:                           1                                         \n",
      "Covariance Type:            nonrobust                                         \n",
      "===============================================================================\n",
      "                  coef    std err          t      P>|t|      [0.025      0.975]\n",
      "-------------------------------------------------------------------------------\n",
      "const          -0.0002   5.22e-05     -3.589      0.000      -0.000    -8.5e-05\n",
      "Log Returns     1.9457      0.003    586.918      0.000       1.939       1.952\n",
      "==============================================================================\n",
      "Omnibus:                     3274.447   Durbin-Watson:                   2.897\n",
      "Prob(Omnibus):                  0.000   Jarque-Bera (JB):          2380793.959\n",
      "Skew:                          -3.264   Prob(JB):                         0.00\n",
      "Kurtosis:                     128.588   Cond. No.                         63.5\n",
      "==============================================================================\n",
      "\n",
      "Notes:\n",
      "[1] Standard Errors assume that the covariance matrix of the errors is correctly specified.\n"
     ]
    }
   ],
   "source": [
    "run_reg(uwm, rut)"
   ]
  },
  {
   "cell_type": "code",
   "execution_count": 66,
   "id": "5d3d33c7",
   "metadata": {},
   "outputs": [
    {
     "name": "stdout",
     "output_type": "stream",
     "text": [
      "                            OLS Regression Results                            \n",
      "==============================================================================\n",
      "Dep. Variable:            Log Returns   R-squared:                       0.988\n",
      "Model:                            OLS   Adj. R-squared:                  0.988\n",
      "Method:                 Least Squares   F-statistic:                 2.884e+05\n",
      "Date:                Sat, 06 May 2023   Prob (F-statistic):               0.00\n",
      "Time:                        15:48:41   Log-Likelihood:                 13925.\n",
      "No. Observations:                3613   AIC:                        -2.785e+04\n",
      "Df Residuals:                    3611   BIC:                        -2.783e+04\n",
      "Df Model:                           1                                         \n",
      "Covariance Type:            nonrobust                                         \n",
      "===============================================================================\n",
      "                  coef    std err          t      P>|t|      [0.025      0.975]\n",
      "-------------------------------------------------------------------------------\n",
      "const          -0.0007   8.54e-05     -7.942      0.000      -0.001      -0.001\n",
      "Log Returns     2.9102      0.005    537.011      0.000       2.900       2.921\n",
      "==============================================================================\n",
      "Omnibus:                     4813.678   Durbin-Watson:                   2.518\n",
      "Prob(Omnibus):                  0.000   Jarque-Bera (JB):          3078501.828\n",
      "Skew:                          -7.007   Prob(JB):                         0.00\n",
      "Kurtosis:                     145.313   Cond. No.                         63.5\n",
      "==============================================================================\n",
      "\n",
      "Notes:\n",
      "[1] Standard Errors assume that the covariance matrix of the errors is correctly specified.\n"
     ]
    }
   ],
   "source": [
    "run_reg(tna, rut)"
   ]
  },
  {
   "cell_type": "code",
   "execution_count": 67,
   "id": "46420f88",
   "metadata": {},
   "outputs": [],
   "source": [
    "rut_te_df['Beta'] = [-2.8781, -1.9149, -0.9668, 1.9457, 2.9102]\n",
    "rut_te_df['t'] = [-461.506, -461.613, -566.953, 586.918, 537.011]\n",
    "rut_te_df['Adj. R sq'] = [0.983, 0.983,  0.989,  0.990,  0.988]"
   ]
  },
  {
   "cell_type": "code",
   "execution_count": 68,
   "id": "8a2f0301",
   "metadata": {},
   "outputs": [
    {
     "data": {
      "text/html": [
       "<div>\n",
       "<style scoped>\n",
       "    .dataframe tbody tr th:only-of-type {\n",
       "        vertical-align: middle;\n",
       "    }\n",
       "\n",
       "    .dataframe tbody tr th {\n",
       "        vertical-align: top;\n",
       "    }\n",
       "\n",
       "    .dataframe thead th {\n",
       "        text-align: right;\n",
       "    }\n",
       "</style>\n",
       "<table border=\"1\" class=\"dataframe\">\n",
       "  <thead>\n",
       "    <tr style=\"text-align: right;\">\n",
       "      <th></th>\n",
       "      <th>Inverse/Levered</th>\n",
       "      <th>Expense Ratio(%)</th>\n",
       "      <th>Tracking Error</th>\n",
       "      <th>Mean(Tracking) Difference</th>\n",
       "      <th>RATD</th>\n",
       "      <th>Beta</th>\n",
       "      <th>t</th>\n",
       "      <th>Adj. R sq</th>\n",
       "    </tr>\n",
       "    <tr>\n",
       "      <th>funds</th>\n",
       "      <th></th>\n",
       "      <th></th>\n",
       "      <th></th>\n",
       "      <th></th>\n",
       "      <th></th>\n",
       "      <th></th>\n",
       "      <th></th>\n",
       "      <th></th>\n",
       "    </tr>\n",
       "  </thead>\n",
       "  <tbody>\n",
       "    <tr>\n",
       "      <th>tza</th>\n",
       "      <td>-3x</td>\n",
       "      <td>1.03</td>\n",
       "      <td>0.0613</td>\n",
       "      <td>-0.0024</td>\n",
       "      <td>-0.0392</td>\n",
       "      <td>-2.8781</td>\n",
       "      <td>-461.506</td>\n",
       "      <td>0.983</td>\n",
       "    </tr>\n",
       "    <tr>\n",
       "      <th>twm</th>\n",
       "      <td>-2x</td>\n",
       "      <td>0.95</td>\n",
       "      <td>0.0461</td>\n",
       "      <td>-0.0017</td>\n",
       "      <td>-0.0369</td>\n",
       "      <td>-1.9149</td>\n",
       "      <td>-461.613</td>\n",
       "      <td>0.983</td>\n",
       "    </tr>\n",
       "    <tr>\n",
       "      <th>rwm</th>\n",
       "      <td>-1x</td>\n",
       "      <td>0.95</td>\n",
       "      <td>0.0310</td>\n",
       "      <td>-0.0011</td>\n",
       "      <td>-0.0355</td>\n",
       "      <td>-0.9668</td>\n",
       "      <td>-566.953</td>\n",
       "      <td>0.989</td>\n",
       "    </tr>\n",
       "    <tr>\n",
       "      <th>uwm</th>\n",
       "      <td>2x</td>\n",
       "      <td>0.95</td>\n",
       "      <td>0.0150</td>\n",
       "      <td>0.0005</td>\n",
       "      <td>0.0333</td>\n",
       "      <td>1.9457</td>\n",
       "      <td>586.918</td>\n",
       "      <td>0.990</td>\n",
       "    </tr>\n",
       "    <tr>\n",
       "      <th>tna</th>\n",
       "      <td>3x</td>\n",
       "      <td>1.09</td>\n",
       "      <td>0.0297</td>\n",
       "      <td>0.0010</td>\n",
       "      <td>0.0337</td>\n",
       "      <td>2.9102</td>\n",
       "      <td>537.011</td>\n",
       "      <td>0.988</td>\n",
       "    </tr>\n",
       "  </tbody>\n",
       "</table>\n",
       "</div>"
      ],
      "text/plain": [
       "      Inverse/Levered Expense Ratio(%)  Tracking Error  \\\n",
       "funds                                                    \n",
       "tza               -3x             1.03          0.0613   \n",
       "twm               -2x             0.95          0.0461   \n",
       "rwm               -1x             0.95          0.0310   \n",
       "uwm                2x             0.95          0.0150   \n",
       "tna                3x             1.09          0.0297   \n",
       "\n",
       "       Mean(Tracking) Difference    RATD    Beta        t  Adj. R sq  \n",
       "funds                                                                 \n",
       "tza                      -0.0024 -0.0392 -2.8781 -461.506      0.983  \n",
       "twm                      -0.0017 -0.0369 -1.9149 -461.613      0.983  \n",
       "rwm                      -0.0011 -0.0355 -0.9668 -566.953      0.989  \n",
       "uwm                       0.0005  0.0333  1.9457  586.918      0.990  \n",
       "tna                       0.0010  0.0337  2.9102  537.011      0.988  "
      ]
     },
     "execution_count": 68,
     "metadata": {},
     "output_type": "execute_result"
    }
   ],
   "source": [
    "rut_te_df"
   ]
  },
  {
   "cell_type": "code",
   "execution_count": 69,
   "id": "74975ed9",
   "metadata": {},
   "outputs": [
    {
     "data": {
      "text/plain": [
       "-100.0"
      ]
     },
     "execution_count": 69,
     "metadata": {},
     "output_type": "execute_result"
    }
   ],
   "source": [
    "etf_hpr(tza)"
   ]
  },
  {
   "cell_type": "code",
   "execution_count": 70,
   "id": "666114a8",
   "metadata": {},
   "outputs": [
    {
     "data": {
      "text/plain": [
       "-99.79"
      ]
     },
     "execution_count": 70,
     "metadata": {},
     "output_type": "execute_result"
    }
   ],
   "source": [
    "etf_hpr(twm)"
   ]
  },
  {
   "cell_type": "code",
   "execution_count": 71,
   "id": "201691b8",
   "metadata": {},
   "outputs": [
    {
     "data": {
      "text/plain": [
       "-92.94"
      ]
     },
     "execution_count": 71,
     "metadata": {},
     "output_type": "execute_result"
    }
   ],
   "source": [
    "etf_hpr(rwm)"
   ]
  },
  {
   "cell_type": "code",
   "execution_count": 72,
   "id": "d5612de5",
   "metadata": {},
   "outputs": [
    {
     "data": {
      "text/plain": [
       "903.67"
      ]
     },
     "execution_count": 72,
     "metadata": {},
     "output_type": "execute_result"
    }
   ],
   "source": [
    "etf_hpr(uwm)"
   ]
  },
  {
   "cell_type": "code",
   "execution_count": 73,
   "id": "06a5df73",
   "metadata": {},
   "outputs": [
    {
     "data": {
      "text/plain": [
       "656.37"
      ]
     },
     "execution_count": 73,
     "metadata": {},
     "output_type": "execute_result"
    }
   ],
   "source": [
    "etf_hpr(tna)"
   ]
  },
  {
   "cell_type": "code",
   "execution_count": 74,
   "id": "aa43b895",
   "metadata": {},
   "outputs": [],
   "source": [
    "rut_te_df['HPR %'] = [-100.0, -99.79, -92.94, 903.67, 656.37]"
   ]
  },
  {
   "cell_type": "code",
   "execution_count": 75,
   "id": "b0d85f32",
   "metadata": {},
   "outputs": [
    {
     "data": {
      "text/html": [
       "<div>\n",
       "<style scoped>\n",
       "    .dataframe tbody tr th:only-of-type {\n",
       "        vertical-align: middle;\n",
       "    }\n",
       "\n",
       "    .dataframe tbody tr th {\n",
       "        vertical-align: top;\n",
       "    }\n",
       "\n",
       "    .dataframe thead th {\n",
       "        text-align: right;\n",
       "    }\n",
       "</style>\n",
       "<table border=\"1\" class=\"dataframe\">\n",
       "  <thead>\n",
       "    <tr style=\"text-align: right;\">\n",
       "      <th></th>\n",
       "      <th>Inverse/Levered</th>\n",
       "      <th>Expense Ratio(%)</th>\n",
       "      <th>Tracking Error</th>\n",
       "      <th>Mean(Tracking) Difference</th>\n",
       "      <th>RATD</th>\n",
       "      <th>Beta</th>\n",
       "      <th>t</th>\n",
       "      <th>Adj. R sq</th>\n",
       "      <th>HPR %</th>\n",
       "    </tr>\n",
       "    <tr>\n",
       "      <th>funds</th>\n",
       "      <th></th>\n",
       "      <th></th>\n",
       "      <th></th>\n",
       "      <th></th>\n",
       "      <th></th>\n",
       "      <th></th>\n",
       "      <th></th>\n",
       "      <th></th>\n",
       "      <th></th>\n",
       "    </tr>\n",
       "  </thead>\n",
       "  <tbody>\n",
       "    <tr>\n",
       "      <th>tza</th>\n",
       "      <td>-3x</td>\n",
       "      <td>1.03</td>\n",
       "      <td>0.0613</td>\n",
       "      <td>-0.0024</td>\n",
       "      <td>-0.0392</td>\n",
       "      <td>-2.8781</td>\n",
       "      <td>-461.506</td>\n",
       "      <td>0.983</td>\n",
       "      <td>-100.00</td>\n",
       "    </tr>\n",
       "    <tr>\n",
       "      <th>twm</th>\n",
       "      <td>-2x</td>\n",
       "      <td>0.95</td>\n",
       "      <td>0.0461</td>\n",
       "      <td>-0.0017</td>\n",
       "      <td>-0.0369</td>\n",
       "      <td>-1.9149</td>\n",
       "      <td>-461.613</td>\n",
       "      <td>0.983</td>\n",
       "      <td>-99.79</td>\n",
       "    </tr>\n",
       "    <tr>\n",
       "      <th>rwm</th>\n",
       "      <td>-1x</td>\n",
       "      <td>0.95</td>\n",
       "      <td>0.0310</td>\n",
       "      <td>-0.0011</td>\n",
       "      <td>-0.0355</td>\n",
       "      <td>-0.9668</td>\n",
       "      <td>-566.953</td>\n",
       "      <td>0.989</td>\n",
       "      <td>-92.94</td>\n",
       "    </tr>\n",
       "    <tr>\n",
       "      <th>uwm</th>\n",
       "      <td>2x</td>\n",
       "      <td>0.95</td>\n",
       "      <td>0.0150</td>\n",
       "      <td>0.0005</td>\n",
       "      <td>0.0333</td>\n",
       "      <td>1.9457</td>\n",
       "      <td>586.918</td>\n",
       "      <td>0.990</td>\n",
       "      <td>903.67</td>\n",
       "    </tr>\n",
       "    <tr>\n",
       "      <th>tna</th>\n",
       "      <td>3x</td>\n",
       "      <td>1.09</td>\n",
       "      <td>0.0297</td>\n",
       "      <td>0.0010</td>\n",
       "      <td>0.0337</td>\n",
       "      <td>2.9102</td>\n",
       "      <td>537.011</td>\n",
       "      <td>0.988</td>\n",
       "      <td>656.37</td>\n",
       "    </tr>\n",
       "  </tbody>\n",
       "</table>\n",
       "</div>"
      ],
      "text/plain": [
       "      Inverse/Levered Expense Ratio(%)  Tracking Error  \\\n",
       "funds                                                    \n",
       "tza               -3x             1.03          0.0613   \n",
       "twm               -2x             0.95          0.0461   \n",
       "rwm               -1x             0.95          0.0310   \n",
       "uwm                2x             0.95          0.0150   \n",
       "tna                3x             1.09          0.0297   \n",
       "\n",
       "       Mean(Tracking) Difference    RATD    Beta        t  Adj. R sq   HPR %  \n",
       "funds                                                                         \n",
       "tza                      -0.0024 -0.0392 -2.8781 -461.506      0.983 -100.00  \n",
       "twm                      -0.0017 -0.0369 -1.9149 -461.613      0.983  -99.79  \n",
       "rwm                      -0.0011 -0.0355 -0.9668 -566.953      0.989  -92.94  \n",
       "uwm                       0.0005  0.0333  1.9457  586.918      0.990  903.67  \n",
       "tna                       0.0010  0.0337  2.9102  537.011      0.988  656.37  "
      ]
     },
     "execution_count": 75,
     "metadata": {},
     "output_type": "execute_result"
    }
   ],
   "source": [
    "rut_te_df"
   ]
  },
  {
   "cell_type": "markdown",
   "id": "2bec393a",
   "metadata": {},
   "source": [
    "The funds in this table are all related to the Russell 2000 index, with varying degrees of leverage. The inverse/leveraged funds in this table are tza (-3x), twm (-2x), uwm (2x), tna (3x), and rwm (-1x). The funds have different expense ratios ranging from 0.95% to 1.09%. Tracking error, which measures the difference between a fund's performance and its benchmark index, varies from 0.0150 to 0.0613. The mean tracking difference, which is the average difference between a fund's daily returns and its benchmark index, ranges from -0.0024 to 0.0010. RATD, which measures a fund's ability to track its benchmark index over time, ranges from -0.0392 to 0.0337. The funds have varying beta values ranging from -2.8781 to 2.9102, and t-statistics ranging from -566.953 to 586.918. The adjusted R-squared value, which measures the percentage of a fund's performance that can be explained by its benchmark index, ranges from 0.983 to 0.990. Finally, the holding period return percentage for these funds ranges from -100.00% to 903.67%."
   ]
  },
  {
   "cell_type": "markdown",
   "id": "af5efbe3",
   "metadata": {},
   "source": [
    "## Conclusion\n",
    "\n",
    "The data suggests that leveraged and inverse ETFs can experience significant tracking errors and underperform their stated benchmark over the long term. The ETFs with higher leverage tend to have higher expenses ratios and tracking errors, and the risk-adjusted returns (RATD) tend to be negative for inverse ETFs and positive for leveraged ETFs.\n",
    "\n",
    "Investors should carefully consider their investment objectives, risk tolerance, and investment horizon before investing in leveraged or inverse ETFs, as these funds can be much riskier and more volatile than traditional ETFs. Additionally, leveraged and inverse ETFs are typically designed for short-term trading and should not be used as long-term investment vehicles."
   ]
  },
  {
   "cell_type": "markdown",
   "id": "4210b3b8",
   "metadata": {},
   "source": [
    "## Reference\n",
    "\n",
    "Levered and Inverse Exchange-Traded Products: Blessing or Curse? by Colby J. Pessina and Robert E. Whaley\n",
    "Published by Financial Analysts Journal | A Publication of CFA Institute https://doi.org/10.1080/0015198X.2020.1830660"
   ]
  }
 ],
 "metadata": {
  "kernelspec": {
   "display_name": "Python 3 (ipykernel)",
   "language": "python",
   "name": "python3"
  },
  "language_info": {
   "codemirror_mode": {
    "name": "ipython",
    "version": 3
   },
   "file_extension": ".py",
   "mimetype": "text/x-python",
   "name": "python",
   "nbconvert_exporter": "python",
   "pygments_lexer": "ipython3",
   "version": "3.9.7"
  }
 },
 "nbformat": 4,
 "nbformat_minor": 5
}
